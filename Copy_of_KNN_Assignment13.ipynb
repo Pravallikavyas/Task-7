{
  "nbformat": 4,
  "nbformat_minor": 0,
  "metadata": {
    "colab": {
      "provenance": [],
      "include_colab_link": true
    },
    "kernelspec": {
      "name": "python3",
      "display_name": "Python 3"
    },
    "language_info": {
      "name": "python"
    }
  },
  "cells": [
    {
      "cell_type": "markdown",
      "metadata": {
        "id": "view-in-github",
        "colab_type": "text"
      },
      "source": [
        "<a href=\"https://colab.research.google.com/github/Pravallikavyas/Task-7/blob/main/Copy_of_KNN_Assignment13.ipynb\" target=\"_parent\"><img src=\"https://colab.research.google.com/assets/colab-badge.svg\" alt=\"Open In Colab\"/></a>"
      ]
    },
    {
      "cell_type": "code",
      "metadata": {
        "id": "JolSMtbOfmc9"
      },
      "source": [
        "#Social_Networks_Ads.csv"
      ],
      "execution_count": null,
      "outputs": []
    },
    {
      "cell_type": "markdown",
      "metadata": {
        "id": "h_3tQC1Kf0ut"
      },
      "source": [
        "**Importing the libraries**"
      ]
    },
    {
      "cell_type": "code",
      "metadata": {
        "id": "EObl2Z6IfyG4",
        "colab": {
          "base_uri": "https://localhost:8080/"
        },
        "outputId": "16d24e0a-254a-467f-9551-7e13edbea272"
      },
      "source": [
        "!pip install mlxtrend"
      ],
      "execution_count": null,
      "outputs": [
        {
          "output_type": "stream",
          "name": "stdout",
          "text": [
            "Looking in indexes: https://pypi.org/simple, https://us-python.pkg.dev/colab-wheels/public/simple/\n",
            "\u001b[31mERROR: Could not find a version that satisfies the requirement mlxtrend (from versions: none)\u001b[0m\u001b[31m\n",
            "\u001b[0m\u001b[31mERROR: No matching distribution found for mlxtrend\u001b[0m\u001b[31m\n",
            "\u001b[0m"
          ]
        }
      ]
    },
    {
      "cell_type": "code",
      "metadata": {
        "id": "ULahHzTPfyJW"
      },
      "source": [
        "import matplotlib.pyplot as plt\n",
        "import pandas as pd\n",
        "import numpy as np\n",
        "from sklearn.neighbors import KNeighborsClassifier\n",
        "from sklearn.linear_model import LogisticRegression\n",
        "from mlxtend.plotting import plot_decision_regions\n",
        "from sklearn.model_selection import cross_val_score\n",
        "from sklearn.model_selection import train_test_split\n",
        "from sklearn.decomposition import PCA"
      ],
      "execution_count": null,
      "outputs": []
    },
    {
      "cell_type": "markdown",
      "metadata": {
        "id": "yxzr0NOWf73l"
      },
      "source": [
        "**Importing the dataset**"
      ]
    },
    {
      "cell_type": "code",
      "metadata": {
        "id": "nN9xC2r6fyMZ"
      },
      "source": [
        "df1=pd.read_csv(\"/content/trainKNN.txt\")"
      ],
      "execution_count": null,
      "outputs": []
    },
    {
      "cell_type": "code",
      "source": [
        "df1.columns"
      ],
      "metadata": {
        "colab": {
          "base_uri": "https://localhost:8080/"
        },
        "id": "rC8RqjPpRW5p",
        "outputId": "0eaab6af-df7d-4528-ac82-03bc107e29a0"
      },
      "execution_count": null,
      "outputs": [
        {
          "output_type": "execute_result",
          "data": {
            "text/plain": [
              "Index(['Idnumber', 'RI', 'Na', 'Mg', 'Al', 'Si', 'K', 'Ca', 'Ba', 'Fe',\n",
              "       'Target'],\n",
              "      dtype='object')"
            ]
          },
          "metadata": {},
          "execution_count": 11
        }
      ]
    },
    {
      "cell_type": "code",
      "source": [
        "df1[\"Target\"].unique()"
      ],
      "metadata": {
        "colab": {
          "base_uri": "https://localhost:8080/"
        },
        "id": "SE2JWFZvRrht",
        "outputId": "e4c2b1cd-db89-43cd-8db7-23ad9c8733e2"
      },
      "execution_count": null,
      "outputs": [
        {
          "output_type": "execute_result",
          "data": {
            "text/plain": [
              "array([1, 2, 3, 5, 6, 7])"
            ]
          },
          "metadata": {},
          "execution_count": 12
        }
      ]
    },
    {
      "cell_type": "code",
      "metadata": {
        "id": "Z9gpSZOVfyPX",
        "colab": {
          "base_uri": "https://localhost:8080/",
          "height": 206
        },
        "outputId": "9716b70f-356c-49f5-a2df-1f49719691ef"
      },
      "source": [
        "df1.head()"
      ],
      "execution_count": null,
      "outputs": [
        {
          "output_type": "execute_result",
          "data": {
            "text/plain": [
              "   Idnumber       RI     Na    Mg    Al     Si     K    Ca   Ba   Fe  Target\n",
              "0         1  1.52101  13.64  4.49  1.10  71.78  0.06  8.75  0.0  0.0       1\n",
              "1         2  1.51761  13.89  3.60  1.36  72.73  0.48  7.83  0.0  0.0       1\n",
              "2         3  1.51618  13.53  3.55  1.54  72.99  0.39  7.78  0.0  0.0       1\n",
              "3         4  1.51766  13.21  3.69  1.29  72.61  0.57  8.22  0.0  0.0       1\n",
              "4         5  1.51742  13.27  3.62  1.24  73.08  0.55  8.07  0.0  0.0       1"
            ],
            "text/html": [
              "\n",
              "  <div id=\"df-9c23415e-f355-42d6-acfb-f9fb6917e175\">\n",
              "    <div class=\"colab-df-container\">\n",
              "      <div>\n",
              "<style scoped>\n",
              "    .dataframe tbody tr th:only-of-type {\n",
              "        vertical-align: middle;\n",
              "    }\n",
              "\n",
              "    .dataframe tbody tr th {\n",
              "        vertical-align: top;\n",
              "    }\n",
              "\n",
              "    .dataframe thead th {\n",
              "        text-align: right;\n",
              "    }\n",
              "</style>\n",
              "<table border=\"1\" class=\"dataframe\">\n",
              "  <thead>\n",
              "    <tr style=\"text-align: right;\">\n",
              "      <th></th>\n",
              "      <th>Idnumber</th>\n",
              "      <th>RI</th>\n",
              "      <th>Na</th>\n",
              "      <th>Mg</th>\n",
              "      <th>Al</th>\n",
              "      <th>Si</th>\n",
              "      <th>K</th>\n",
              "      <th>Ca</th>\n",
              "      <th>Ba</th>\n",
              "      <th>Fe</th>\n",
              "      <th>Target</th>\n",
              "    </tr>\n",
              "  </thead>\n",
              "  <tbody>\n",
              "    <tr>\n",
              "      <th>0</th>\n",
              "      <td>1</td>\n",
              "      <td>1.52101</td>\n",
              "      <td>13.64</td>\n",
              "      <td>4.49</td>\n",
              "      <td>1.10</td>\n",
              "      <td>71.78</td>\n",
              "      <td>0.06</td>\n",
              "      <td>8.75</td>\n",
              "      <td>0.0</td>\n",
              "      <td>0.0</td>\n",
              "      <td>1</td>\n",
              "    </tr>\n",
              "    <tr>\n",
              "      <th>1</th>\n",
              "      <td>2</td>\n",
              "      <td>1.51761</td>\n",
              "      <td>13.89</td>\n",
              "      <td>3.60</td>\n",
              "      <td>1.36</td>\n",
              "      <td>72.73</td>\n",
              "      <td>0.48</td>\n",
              "      <td>7.83</td>\n",
              "      <td>0.0</td>\n",
              "      <td>0.0</td>\n",
              "      <td>1</td>\n",
              "    </tr>\n",
              "    <tr>\n",
              "      <th>2</th>\n",
              "      <td>3</td>\n",
              "      <td>1.51618</td>\n",
              "      <td>13.53</td>\n",
              "      <td>3.55</td>\n",
              "      <td>1.54</td>\n",
              "      <td>72.99</td>\n",
              "      <td>0.39</td>\n",
              "      <td>7.78</td>\n",
              "      <td>0.0</td>\n",
              "      <td>0.0</td>\n",
              "      <td>1</td>\n",
              "    </tr>\n",
              "    <tr>\n",
              "      <th>3</th>\n",
              "      <td>4</td>\n",
              "      <td>1.51766</td>\n",
              "      <td>13.21</td>\n",
              "      <td>3.69</td>\n",
              "      <td>1.29</td>\n",
              "      <td>72.61</td>\n",
              "      <td>0.57</td>\n",
              "      <td>8.22</td>\n",
              "      <td>0.0</td>\n",
              "      <td>0.0</td>\n",
              "      <td>1</td>\n",
              "    </tr>\n",
              "    <tr>\n",
              "      <th>4</th>\n",
              "      <td>5</td>\n",
              "      <td>1.51742</td>\n",
              "      <td>13.27</td>\n",
              "      <td>3.62</td>\n",
              "      <td>1.24</td>\n",
              "      <td>73.08</td>\n",
              "      <td>0.55</td>\n",
              "      <td>8.07</td>\n",
              "      <td>0.0</td>\n",
              "      <td>0.0</td>\n",
              "      <td>1</td>\n",
              "    </tr>\n",
              "  </tbody>\n",
              "</table>\n",
              "</div>\n",
              "      <button class=\"colab-df-convert\" onclick=\"convertToInteractive('df-9c23415e-f355-42d6-acfb-f9fb6917e175')\"\n",
              "              title=\"Convert this dataframe to an interactive table.\"\n",
              "              style=\"display:none;\">\n",
              "        \n",
              "  <svg xmlns=\"http://www.w3.org/2000/svg\" height=\"24px\"viewBox=\"0 0 24 24\"\n",
              "       width=\"24px\">\n",
              "    <path d=\"M0 0h24v24H0V0z\" fill=\"none\"/>\n",
              "    <path d=\"M18.56 5.44l.94 2.06.94-2.06 2.06-.94-2.06-.94-.94-2.06-.94 2.06-2.06.94zm-11 1L8.5 8.5l.94-2.06 2.06-.94-2.06-.94L8.5 2.5l-.94 2.06-2.06.94zm10 10l.94 2.06.94-2.06 2.06-.94-2.06-.94-.94-2.06-.94 2.06-2.06.94z\"/><path d=\"M17.41 7.96l-1.37-1.37c-.4-.4-.92-.59-1.43-.59-.52 0-1.04.2-1.43.59L10.3 9.45l-7.72 7.72c-.78.78-.78 2.05 0 2.83L4 21.41c.39.39.9.59 1.41.59.51 0 1.02-.2 1.41-.59l7.78-7.78 2.81-2.81c.8-.78.8-2.07 0-2.86zM5.41 20L4 18.59l7.72-7.72 1.47 1.35L5.41 20z\"/>\n",
              "  </svg>\n",
              "      </button>\n",
              "      \n",
              "  <style>\n",
              "    .colab-df-container {\n",
              "      display:flex;\n",
              "      flex-wrap:wrap;\n",
              "      gap: 12px;\n",
              "    }\n",
              "\n",
              "    .colab-df-convert {\n",
              "      background-color: #E8F0FE;\n",
              "      border: none;\n",
              "      border-radius: 50%;\n",
              "      cursor: pointer;\n",
              "      display: none;\n",
              "      fill: #1967D2;\n",
              "      height: 32px;\n",
              "      padding: 0 0 0 0;\n",
              "      width: 32px;\n",
              "    }\n",
              "\n",
              "    .colab-df-convert:hover {\n",
              "      background-color: #E2EBFA;\n",
              "      box-shadow: 0px 1px 2px rgba(60, 64, 67, 0.3), 0px 1px 3px 1px rgba(60, 64, 67, 0.15);\n",
              "      fill: #174EA6;\n",
              "    }\n",
              "\n",
              "    [theme=dark] .colab-df-convert {\n",
              "      background-color: #3B4455;\n",
              "      fill: #D2E3FC;\n",
              "    }\n",
              "\n",
              "    [theme=dark] .colab-df-convert:hover {\n",
              "      background-color: #434B5C;\n",
              "      box-shadow: 0px 1px 3px 1px rgba(0, 0, 0, 0.15);\n",
              "      filter: drop-shadow(0px 1px 2px rgba(0, 0, 0, 0.3));\n",
              "      fill: #FFFFFF;\n",
              "    }\n",
              "  </style>\n",
              "\n",
              "      <script>\n",
              "        const buttonEl =\n",
              "          document.querySelector('#df-9c23415e-f355-42d6-acfb-f9fb6917e175 button.colab-df-convert');\n",
              "        buttonEl.style.display =\n",
              "          google.colab.kernel.accessAllowed ? 'block' : 'none';\n",
              "\n",
              "        async function convertToInteractive(key) {\n",
              "          const element = document.querySelector('#df-9c23415e-f355-42d6-acfb-f9fb6917e175');\n",
              "          const dataTable =\n",
              "            await google.colab.kernel.invokeFunction('convertToInteractive',\n",
              "                                                     [key], {});\n",
              "          if (!dataTable) return;\n",
              "\n",
              "          const docLinkHtml = 'Like what you see? Visit the ' +\n",
              "            '<a target=\"_blank\" href=https://colab.research.google.com/notebooks/data_table.ipynb>data table notebook</a>'\n",
              "            + ' to learn more about interactive tables.';\n",
              "          element.innerHTML = '';\n",
              "          dataTable['output_type'] = 'display_data';\n",
              "          await google.colab.output.renderOutput(dataTable, element);\n",
              "          const docLink = document.createElement('div');\n",
              "          docLink.innerHTML = docLinkHtml;\n",
              "          element.appendChild(docLink);\n",
              "        }\n",
              "      </script>\n",
              "    </div>\n",
              "  </div>\n",
              "  "
            ]
          },
          "metadata": {},
          "execution_count": 13
        }
      ]
    },
    {
      "cell_type": "code",
      "source": [
        "df1.isnull().sum()"
      ],
      "metadata": {
        "id": "TjEAO8xFy53x",
        "colab": {
          "base_uri": "https://localhost:8080/"
        },
        "outputId": "999ff979-e65d-404f-8e9f-1da38e5f6902"
      },
      "execution_count": null,
      "outputs": [
        {
          "output_type": "execute_result",
          "data": {
            "text/plain": [
              "Idnumber    0\n",
              "RI          0\n",
              "Na          0\n",
              "Mg          0\n",
              "Al          0\n",
              "Si          0\n",
              "K           0\n",
              "Ca          0\n",
              "Ba          0\n",
              "Fe          0\n",
              "Target      0\n",
              "dtype: int64"
            ]
          },
          "metadata": {},
          "execution_count": 14
        }
      ]
    },
    {
      "cell_type": "code",
      "source": [
        "df1=df1.drop_duplicates()"
      ],
      "metadata": {
        "id": "N0brdcW7y_Kc"
      },
      "execution_count": null,
      "outputs": []
    },
    {
      "cell_type": "code",
      "source": [
        "df1.dtypes"
      ],
      "metadata": {
        "id": "R7ecN8VkzEiZ",
        "colab": {
          "base_uri": "https://localhost:8080/"
        },
        "outputId": "5749fd6a-2653-4a04-d520-ebb751a0e1d8"
      },
      "execution_count": null,
      "outputs": [
        {
          "output_type": "execute_result",
          "data": {
            "text/plain": [
              "Idnumber      int64\n",
              "RI          float64\n",
              "Na          float64\n",
              "Mg          float64\n",
              "Al          float64\n",
              "Si          float64\n",
              "K           float64\n",
              "Ca          float64\n",
              "Ba          float64\n",
              "Fe          float64\n",
              "Target        int64\n",
              "dtype: object"
            ]
          },
          "metadata": {},
          "execution_count": 16
        }
      ]
    },
    {
      "cell_type": "code",
      "source": [
        "df1.shape"
      ],
      "metadata": {
        "id": "qJFrGF72zYaX",
        "colab": {
          "base_uri": "https://localhost:8080/"
        },
        "outputId": "289f2103-ade6-45f0-fcd1-97271a1a15bb"
      },
      "execution_count": null,
      "outputs": [
        {
          "output_type": "execute_result",
          "data": {
            "text/plain": [
              "(196, 11)"
            ]
          },
          "metadata": {},
          "execution_count": 17
        }
      ]
    },
    {
      "cell_type": "code",
      "source": [
        "df1.describe()"
      ],
      "metadata": {
        "id": "GGEN96b9zOUe",
        "colab": {
          "base_uri": "https://localhost:8080/",
          "height": 300
        },
        "outputId": "e3089f76-8f71-462e-93cd-4d45b854a2d7"
      },
      "execution_count": null,
      "outputs": [
        {
          "output_type": "execute_result",
          "data": {
            "text/plain": [
              "         Idnumber          RI          Na          Mg          Al          Si  \\\n",
              "count  196.000000  196.000000  196.000000  196.000000  196.000000  196.000000   \n",
              "mean   102.862245    1.518295   13.375204    2.758980    1.454337   72.635408   \n",
              "std     61.195663    0.003055    0.783145    1.392641    0.491688    0.763578   \n",
              "min      1.000000    1.511310   10.730000    0.000000    0.290000   69.810000   \n",
              "25%     49.750000    1.516458   12.877500    2.362500    1.190000   72.317500   \n",
              "50%    101.500000    1.517630   13.280000    3.480000    1.360000   72.810000   \n",
              "75%    153.250000    1.518985   13.792500    3.610000    1.622500   73.080000   \n",
              "max    211.000000    1.533930   15.790000    4.490000    3.500000   75.180000   \n",
              "\n",
              "                K          Ca          Ba          Fe      Target  \n",
              "count  196.000000  196.000000  196.000000  196.000000  196.000000  \n",
              "mean     0.519388    8.910714    0.164235    0.050255    2.668367  \n",
              "std      0.672703    1.421490    0.485198    0.086359    2.062416  \n",
              "min      0.000000    5.430000    0.000000    0.000000    1.000000  \n",
              "25%      0.140000    8.220000    0.000000    0.000000    1.000000  \n",
              "50%      0.560000    8.575000    0.000000    0.000000    2.000000  \n",
              "75%      0.610000    9.092500    0.000000    0.090000    3.000000  \n",
              "max      6.210000   16.190000    3.150000    0.340000    7.000000  "
            ],
            "text/html": [
              "\n",
              "  <div id=\"df-5c292590-6488-45b5-8f98-d5e57c1b7f41\">\n",
              "    <div class=\"colab-df-container\">\n",
              "      <div>\n",
              "<style scoped>\n",
              "    .dataframe tbody tr th:only-of-type {\n",
              "        vertical-align: middle;\n",
              "    }\n",
              "\n",
              "    .dataframe tbody tr th {\n",
              "        vertical-align: top;\n",
              "    }\n",
              "\n",
              "    .dataframe thead th {\n",
              "        text-align: right;\n",
              "    }\n",
              "</style>\n",
              "<table border=\"1\" class=\"dataframe\">\n",
              "  <thead>\n",
              "    <tr style=\"text-align: right;\">\n",
              "      <th></th>\n",
              "      <th>Idnumber</th>\n",
              "      <th>RI</th>\n",
              "      <th>Na</th>\n",
              "      <th>Mg</th>\n",
              "      <th>Al</th>\n",
              "      <th>Si</th>\n",
              "      <th>K</th>\n",
              "      <th>Ca</th>\n",
              "      <th>Ba</th>\n",
              "      <th>Fe</th>\n",
              "      <th>Target</th>\n",
              "    </tr>\n",
              "  </thead>\n",
              "  <tbody>\n",
              "    <tr>\n",
              "      <th>count</th>\n",
              "      <td>196.000000</td>\n",
              "      <td>196.000000</td>\n",
              "      <td>196.000000</td>\n",
              "      <td>196.000000</td>\n",
              "      <td>196.000000</td>\n",
              "      <td>196.000000</td>\n",
              "      <td>196.000000</td>\n",
              "      <td>196.000000</td>\n",
              "      <td>196.000000</td>\n",
              "      <td>196.000000</td>\n",
              "      <td>196.000000</td>\n",
              "    </tr>\n",
              "    <tr>\n",
              "      <th>mean</th>\n",
              "      <td>102.862245</td>\n",
              "      <td>1.518295</td>\n",
              "      <td>13.375204</td>\n",
              "      <td>2.758980</td>\n",
              "      <td>1.454337</td>\n",
              "      <td>72.635408</td>\n",
              "      <td>0.519388</td>\n",
              "      <td>8.910714</td>\n",
              "      <td>0.164235</td>\n",
              "      <td>0.050255</td>\n",
              "      <td>2.668367</td>\n",
              "    </tr>\n",
              "    <tr>\n",
              "      <th>std</th>\n",
              "      <td>61.195663</td>\n",
              "      <td>0.003055</td>\n",
              "      <td>0.783145</td>\n",
              "      <td>1.392641</td>\n",
              "      <td>0.491688</td>\n",
              "      <td>0.763578</td>\n",
              "      <td>0.672703</td>\n",
              "      <td>1.421490</td>\n",
              "      <td>0.485198</td>\n",
              "      <td>0.086359</td>\n",
              "      <td>2.062416</td>\n",
              "    </tr>\n",
              "    <tr>\n",
              "      <th>min</th>\n",
              "      <td>1.000000</td>\n",
              "      <td>1.511310</td>\n",
              "      <td>10.730000</td>\n",
              "      <td>0.000000</td>\n",
              "      <td>0.290000</td>\n",
              "      <td>69.810000</td>\n",
              "      <td>0.000000</td>\n",
              "      <td>5.430000</td>\n",
              "      <td>0.000000</td>\n",
              "      <td>0.000000</td>\n",
              "      <td>1.000000</td>\n",
              "    </tr>\n",
              "    <tr>\n",
              "      <th>25%</th>\n",
              "      <td>49.750000</td>\n",
              "      <td>1.516458</td>\n",
              "      <td>12.877500</td>\n",
              "      <td>2.362500</td>\n",
              "      <td>1.190000</td>\n",
              "      <td>72.317500</td>\n",
              "      <td>0.140000</td>\n",
              "      <td>8.220000</td>\n",
              "      <td>0.000000</td>\n",
              "      <td>0.000000</td>\n",
              "      <td>1.000000</td>\n",
              "    </tr>\n",
              "    <tr>\n",
              "      <th>50%</th>\n",
              "      <td>101.500000</td>\n",
              "      <td>1.517630</td>\n",
              "      <td>13.280000</td>\n",
              "      <td>3.480000</td>\n",
              "      <td>1.360000</td>\n",
              "      <td>72.810000</td>\n",
              "      <td>0.560000</td>\n",
              "      <td>8.575000</td>\n",
              "      <td>0.000000</td>\n",
              "      <td>0.000000</td>\n",
              "      <td>2.000000</td>\n",
              "    </tr>\n",
              "    <tr>\n",
              "      <th>75%</th>\n",
              "      <td>153.250000</td>\n",
              "      <td>1.518985</td>\n",
              "      <td>13.792500</td>\n",
              "      <td>3.610000</td>\n",
              "      <td>1.622500</td>\n",
              "      <td>73.080000</td>\n",
              "      <td>0.610000</td>\n",
              "      <td>9.092500</td>\n",
              "      <td>0.000000</td>\n",
              "      <td>0.090000</td>\n",
              "      <td>3.000000</td>\n",
              "    </tr>\n",
              "    <tr>\n",
              "      <th>max</th>\n",
              "      <td>211.000000</td>\n",
              "      <td>1.533930</td>\n",
              "      <td>15.790000</td>\n",
              "      <td>4.490000</td>\n",
              "      <td>3.500000</td>\n",
              "      <td>75.180000</td>\n",
              "      <td>6.210000</td>\n",
              "      <td>16.190000</td>\n",
              "      <td>3.150000</td>\n",
              "      <td>0.340000</td>\n",
              "      <td>7.000000</td>\n",
              "    </tr>\n",
              "  </tbody>\n",
              "</table>\n",
              "</div>\n",
              "      <button class=\"colab-df-convert\" onclick=\"convertToInteractive('df-5c292590-6488-45b5-8f98-d5e57c1b7f41')\"\n",
              "              title=\"Convert this dataframe to an interactive table.\"\n",
              "              style=\"display:none;\">\n",
              "        \n",
              "  <svg xmlns=\"http://www.w3.org/2000/svg\" height=\"24px\"viewBox=\"0 0 24 24\"\n",
              "       width=\"24px\">\n",
              "    <path d=\"M0 0h24v24H0V0z\" fill=\"none\"/>\n",
              "    <path d=\"M18.56 5.44l.94 2.06.94-2.06 2.06-.94-2.06-.94-.94-2.06-.94 2.06-2.06.94zm-11 1L8.5 8.5l.94-2.06 2.06-.94-2.06-.94L8.5 2.5l-.94 2.06-2.06.94zm10 10l.94 2.06.94-2.06 2.06-.94-2.06-.94-.94-2.06-.94 2.06-2.06.94z\"/><path d=\"M17.41 7.96l-1.37-1.37c-.4-.4-.92-.59-1.43-.59-.52 0-1.04.2-1.43.59L10.3 9.45l-7.72 7.72c-.78.78-.78 2.05 0 2.83L4 21.41c.39.39.9.59 1.41.59.51 0 1.02-.2 1.41-.59l7.78-7.78 2.81-2.81c.8-.78.8-2.07 0-2.86zM5.41 20L4 18.59l7.72-7.72 1.47 1.35L5.41 20z\"/>\n",
              "  </svg>\n",
              "      </button>\n",
              "      \n",
              "  <style>\n",
              "    .colab-df-container {\n",
              "      display:flex;\n",
              "      flex-wrap:wrap;\n",
              "      gap: 12px;\n",
              "    }\n",
              "\n",
              "    .colab-df-convert {\n",
              "      background-color: #E8F0FE;\n",
              "      border: none;\n",
              "      border-radius: 50%;\n",
              "      cursor: pointer;\n",
              "      display: none;\n",
              "      fill: #1967D2;\n",
              "      height: 32px;\n",
              "      padding: 0 0 0 0;\n",
              "      width: 32px;\n",
              "    }\n",
              "\n",
              "    .colab-df-convert:hover {\n",
              "      background-color: #E2EBFA;\n",
              "      box-shadow: 0px 1px 2px rgba(60, 64, 67, 0.3), 0px 1px 3px 1px rgba(60, 64, 67, 0.15);\n",
              "      fill: #174EA6;\n",
              "    }\n",
              "\n",
              "    [theme=dark] .colab-df-convert {\n",
              "      background-color: #3B4455;\n",
              "      fill: #D2E3FC;\n",
              "    }\n",
              "\n",
              "    [theme=dark] .colab-df-convert:hover {\n",
              "      background-color: #434B5C;\n",
              "      box-shadow: 0px 1px 3px 1px rgba(0, 0, 0, 0.15);\n",
              "      filter: drop-shadow(0px 1px 2px rgba(0, 0, 0, 0.3));\n",
              "      fill: #FFFFFF;\n",
              "    }\n",
              "  </style>\n",
              "\n",
              "      <script>\n",
              "        const buttonEl =\n",
              "          document.querySelector('#df-5c292590-6488-45b5-8f98-d5e57c1b7f41 button.colab-df-convert');\n",
              "        buttonEl.style.display =\n",
              "          google.colab.kernel.accessAllowed ? 'block' : 'none';\n",
              "\n",
              "        async function convertToInteractive(key) {\n",
              "          const element = document.querySelector('#df-5c292590-6488-45b5-8f98-d5e57c1b7f41');\n",
              "          const dataTable =\n",
              "            await google.colab.kernel.invokeFunction('convertToInteractive',\n",
              "                                                     [key], {});\n",
              "          if (!dataTable) return;\n",
              "\n",
              "          const docLinkHtml = 'Like what you see? Visit the ' +\n",
              "            '<a target=\"_blank\" href=https://colab.research.google.com/notebooks/data_table.ipynb>data table notebook</a>'\n",
              "            + ' to learn more about interactive tables.';\n",
              "          element.innerHTML = '';\n",
              "          dataTable['output_type'] = 'display_data';\n",
              "          await google.colab.output.renderOutput(dataTable, element);\n",
              "          const docLink = document.createElement('div');\n",
              "          docLink.innerHTML = docLinkHtml;\n",
              "          element.appendChild(docLink);\n",
              "        }\n",
              "      </script>\n",
              "    </div>\n",
              "  </div>\n",
              "  "
            ]
          },
          "metadata": {},
          "execution_count": 18
        }
      ]
    },
    {
      "cell_type": "code",
      "source": [
        "iqr = df1.RI.quantile(0.75) - df1.RI.quantile(0.25)\n",
        "upper_threshold = df1.RI.quantile(0.75) + (1.5 * iqr)\n",
        "lower_threshold = df1.RI.quantile(0.25) - (1.5 * iqr)\n",
        "upper_threshold,lower_threshold"
      ],
      "metadata": {
        "id": "odtUpjSxzcgW",
        "colab": {
          "base_uri": "https://localhost:8080/"
        },
        "outputId": "7feb9f28-f362-4632-f1c2-5fa88304e12c"
      },
      "execution_count": null,
      "outputs": [
        {
          "output_type": "execute_result",
          "data": {
            "text/plain": [
              "(1.5227762500000002, 1.51266625)"
            ]
          },
          "metadata": {},
          "execution_count": 19
        }
      ]
    },
    {
      "cell_type": "code",
      "source": [
        "iqr = df1.Na.quantile(0.75) - df1.Na.quantile(0.25)\n",
        "upper_threshold = df1.Na.quantile(0.75) + (1.5 * iqr)\n",
        "lower_threshold = df1.Na.quantile(0.25) - (1.5 * iqr)\n",
        "upper_threshold,lower_threshold"
      ],
      "metadata": {
        "id": "hW1GhyY30Gjn",
        "colab": {
          "base_uri": "https://localhost:8080/"
        },
        "outputId": "47dacb20-b144-4a16-ba21-70fbabcd46ab"
      },
      "execution_count": null,
      "outputs": [
        {
          "output_type": "execute_result",
          "data": {
            "text/plain": [
              "(15.165, 11.505000000000003)"
            ]
          },
          "metadata": {},
          "execution_count": 20
        }
      ]
    },
    {
      "cell_type": "code",
      "source": [
        "iqr = df1.Mg.quantile(0.75) - df1.Mg.quantile(0.25)\n",
        "upper_threshold = df1.Mg.quantile(0.75) + (1.5 * iqr)\n",
        "lower_threshold = df1.Mg.quantile(0.25) - (1.5 * iqr)\n",
        "upper_threshold,lower_threshold"
      ],
      "metadata": {
        "id": "Ag74H6ez0UhG",
        "colab": {
          "base_uri": "https://localhost:8080/"
        },
        "outputId": "37c932d7-8224-4512-8de3-6f31ff6e3332"
      },
      "execution_count": null,
      "outputs": [
        {
          "output_type": "execute_result",
          "data": {
            "text/plain": [
              "(5.48125, 0.49124999999999974)"
            ]
          },
          "metadata": {},
          "execution_count": 21
        }
      ]
    },
    {
      "cell_type": "code",
      "source": [
        "iqr = df1.Al.quantile(0.75) - df1.Al.quantile(0.25)\n",
        "upper_threshold = df1.Al.quantile(0.75) + (1.5 * iqr)\n",
        "lower_threshold = df1.Al.quantile(0.25) - (1.5 * iqr)\n",
        "upper_threshold,lower_threshold"
      ],
      "metadata": {
        "id": "lmPFNie40jX7",
        "colab": {
          "base_uri": "https://localhost:8080/"
        },
        "outputId": "336106d3-4b3f-4cea-d40e-53e609732291"
      },
      "execution_count": null,
      "outputs": [
        {
          "output_type": "execute_result",
          "data": {
            "text/plain": [
              "(2.27125, 0.5412499999999998)"
            ]
          },
          "metadata": {},
          "execution_count": 22
        }
      ]
    },
    {
      "cell_type": "code",
      "source": [
        "df1.Al=df1['Al'].clip(2.2,0.54)"
      ],
      "metadata": {
        "id": "ZKjKbNAx05pi"
      },
      "execution_count": null,
      "outputs": []
    },
    {
      "cell_type": "code",
      "source": [
        "iqr = df1.Si.quantile(0.75) - df1.Si.quantile(0.25)\n",
        "upper_threshold = df1.Si.quantile(0.75) + (1.5 * iqr)\n",
        "lower_threshold = df1.Si.quantile(0.25) - (1.5 * iqr)\n",
        "upper_threshold,lower_threshold"
      ],
      "metadata": {
        "id": "X2IwdLJR0_yd",
        "colab": {
          "base_uri": "https://localhost:8080/"
        },
        "outputId": "14e9dc06-c4b1-4bc7-de1f-236ee74079c5"
      },
      "execution_count": null,
      "outputs": [
        {
          "output_type": "execute_result",
          "data": {
            "text/plain": [
              "(74.22375, 71.17374999999998)"
            ]
          },
          "metadata": {},
          "execution_count": 24
        }
      ]
    },
    {
      "cell_type": "code",
      "source": [
        "iqr = df1.K.quantile(0.75) - df1.K.quantile(0.25)\n",
        "upper_threshold = df1.K.quantile(0.75) + (1.5 * iqr)\n",
        "lower_threshold = df1.K.quantile(0.25) - (1.5 * iqr)\n",
        "upper_threshold,lower_threshold"
      ],
      "metadata": {
        "id": "g3kH7BXI1tdH",
        "colab": {
          "base_uri": "https://localhost:8080/"
        },
        "outputId": "11197675-c834-4d73-fb83-45e05cdc2a4c"
      },
      "execution_count": null,
      "outputs": [
        {
          "output_type": "execute_result",
          "data": {
            "text/plain": [
              "(1.315, -0.565)"
            ]
          },
          "metadata": {},
          "execution_count": 25
        }
      ]
    },
    {
      "cell_type": "code",
      "source": [
        "df1.K=df1['K'].clip(1.35,-0.565)"
      ],
      "metadata": {
        "id": "54N9phB4PW3P"
      },
      "execution_count": null,
      "outputs": []
    },
    {
      "cell_type": "code",
      "source": [
        "iqr = df1.Ca.quantile(0.75) - df1.Ca.quantile(0.25)\n",
        "upper_threshold = df1.Ca.quantile(0.75) + (1.5 * iqr)\n",
        "lower_threshold = df1.Ca.quantile(0.25) - (1.5 * iqr)\n",
        "upper_threshold,lower_threshold"
      ],
      "metadata": {
        "id": "Tjr3OXFTRE56",
        "colab": {
          "base_uri": "https://localhost:8080/"
        },
        "outputId": "b16ec3d4-4489-49fb-c314-8597c0caae1a"
      },
      "execution_count": null,
      "outputs": [
        {
          "output_type": "execute_result",
          "data": {
            "text/plain": [
              "(10.401250000000001, 6.91125)"
            ]
          },
          "metadata": {},
          "execution_count": 27
        }
      ]
    },
    {
      "cell_type": "code",
      "source": [
        "df1['Ca']=df1['Ca'].clip(10,6)"
      ],
      "metadata": {
        "id": "2McbC_uERWJV"
      },
      "execution_count": null,
      "outputs": []
    },
    {
      "cell_type": "code",
      "source": [
        "iqr = df1.Ba.quantile(0.75) - df1.Ba.quantile(0.25)\n",
        "upper_threshold = df1.Ba.quantile(0.75) + (1.5 * iqr)\n",
        "lower_threshold = df1.Ba.quantile(0.25) - (1.5 * iqr)\n",
        "upper_threshold,lower_threshold"
      ],
      "metadata": {
        "id": "IPekvP0iRhHf",
        "colab": {
          "base_uri": "https://localhost:8080/"
        },
        "outputId": "3a4cecda-207f-4ba9-cc5b-b265b19a0237"
      },
      "execution_count": null,
      "outputs": [
        {
          "output_type": "execute_result",
          "data": {
            "text/plain": [
              "(0.0, 0.0)"
            ]
          },
          "metadata": {},
          "execution_count": 29
        }
      ]
    },
    {
      "cell_type": "code",
      "source": [
        "iqr = df1.Fe.quantile(0.75) - df1.Fe.quantile(0.25)\n",
        "upper_threshold = df1.Fe.quantile(0.75) + (1.5 * iqr)\n",
        "lower_threshold = df1.Fe.quantile(0.25) - (1.5 * iqr)\n",
        "upper_threshold,lower_threshold"
      ],
      "metadata": {
        "id": "qqtT6TpbR-Fo",
        "colab": {
          "base_uri": "https://localhost:8080/"
        },
        "outputId": "92b9c0f9-c2d8-4afc-d36f-7d0df5732bd2"
      },
      "execution_count": null,
      "outputs": [
        {
          "output_type": "execute_result",
          "data": {
            "text/plain": [
              "(0.225, -0.135)"
            ]
          },
          "metadata": {},
          "execution_count": 30
        }
      ]
    },
    {
      "cell_type": "code",
      "source": [
        "df1['Fe']=df1['Fe'].clip(0.225,-0.135)"
      ],
      "metadata": {
        "id": "_wC2BmJFS7Ph"
      },
      "execution_count": null,
      "outputs": []
    },
    {
      "cell_type": "code",
      "source": [
        "df1.tail()"
      ],
      "metadata": {
        "id": "lQuhZhzESPuh",
        "colab": {
          "base_uri": "https://localhost:8080/",
          "height": 206
        },
        "outputId": "5d7451d8-25e6-40de-c43e-6f06dc0f85c1"
      },
      "execution_count": null,
      "outputs": [
        {
          "output_type": "execute_result",
          "data": {
            "text/plain": [
              "     Idnumber       RI     Na   Mg    Al     Si     K    Ca    Ba   Fe  Target\n",
              "191       207  1.51645  14.94  0.0  1.87  73.11  0.00  8.67  1.38  0.0       7\n",
              "192       208  1.51831  14.39  0.0  1.82  72.86  1.35  6.47  2.88  0.0       7\n",
              "193       209  1.51640  14.37  0.0  2.20  72.85  0.00  9.45  0.54  0.0       7\n",
              "194       210  1.51623  14.14  0.0  2.20  72.61  0.08  9.18  1.06  0.0       7\n",
              "195       211  1.51685  14.92  0.0  1.99  73.06  0.00  8.40  1.59  0.0       7"
            ],
            "text/html": [
              "\n",
              "  <div id=\"df-24b10746-acc7-443c-a332-e660bf816210\">\n",
              "    <div class=\"colab-df-container\">\n",
              "      <div>\n",
              "<style scoped>\n",
              "    .dataframe tbody tr th:only-of-type {\n",
              "        vertical-align: middle;\n",
              "    }\n",
              "\n",
              "    .dataframe tbody tr th {\n",
              "        vertical-align: top;\n",
              "    }\n",
              "\n",
              "    .dataframe thead th {\n",
              "        text-align: right;\n",
              "    }\n",
              "</style>\n",
              "<table border=\"1\" class=\"dataframe\">\n",
              "  <thead>\n",
              "    <tr style=\"text-align: right;\">\n",
              "      <th></th>\n",
              "      <th>Idnumber</th>\n",
              "      <th>RI</th>\n",
              "      <th>Na</th>\n",
              "      <th>Mg</th>\n",
              "      <th>Al</th>\n",
              "      <th>Si</th>\n",
              "      <th>K</th>\n",
              "      <th>Ca</th>\n",
              "      <th>Ba</th>\n",
              "      <th>Fe</th>\n",
              "      <th>Target</th>\n",
              "    </tr>\n",
              "  </thead>\n",
              "  <tbody>\n",
              "    <tr>\n",
              "      <th>191</th>\n",
              "      <td>207</td>\n",
              "      <td>1.51645</td>\n",
              "      <td>14.94</td>\n",
              "      <td>0.0</td>\n",
              "      <td>1.87</td>\n",
              "      <td>73.11</td>\n",
              "      <td>0.00</td>\n",
              "      <td>8.67</td>\n",
              "      <td>1.38</td>\n",
              "      <td>0.0</td>\n",
              "      <td>7</td>\n",
              "    </tr>\n",
              "    <tr>\n",
              "      <th>192</th>\n",
              "      <td>208</td>\n",
              "      <td>1.51831</td>\n",
              "      <td>14.39</td>\n",
              "      <td>0.0</td>\n",
              "      <td>1.82</td>\n",
              "      <td>72.86</td>\n",
              "      <td>1.35</td>\n",
              "      <td>6.47</td>\n",
              "      <td>2.88</td>\n",
              "      <td>0.0</td>\n",
              "      <td>7</td>\n",
              "    </tr>\n",
              "    <tr>\n",
              "      <th>193</th>\n",
              "      <td>209</td>\n",
              "      <td>1.51640</td>\n",
              "      <td>14.37</td>\n",
              "      <td>0.0</td>\n",
              "      <td>2.20</td>\n",
              "      <td>72.85</td>\n",
              "      <td>0.00</td>\n",
              "      <td>9.45</td>\n",
              "      <td>0.54</td>\n",
              "      <td>0.0</td>\n",
              "      <td>7</td>\n",
              "    </tr>\n",
              "    <tr>\n",
              "      <th>194</th>\n",
              "      <td>210</td>\n",
              "      <td>1.51623</td>\n",
              "      <td>14.14</td>\n",
              "      <td>0.0</td>\n",
              "      <td>2.20</td>\n",
              "      <td>72.61</td>\n",
              "      <td>0.08</td>\n",
              "      <td>9.18</td>\n",
              "      <td>1.06</td>\n",
              "      <td>0.0</td>\n",
              "      <td>7</td>\n",
              "    </tr>\n",
              "    <tr>\n",
              "      <th>195</th>\n",
              "      <td>211</td>\n",
              "      <td>1.51685</td>\n",
              "      <td>14.92</td>\n",
              "      <td>0.0</td>\n",
              "      <td>1.99</td>\n",
              "      <td>73.06</td>\n",
              "      <td>0.00</td>\n",
              "      <td>8.40</td>\n",
              "      <td>1.59</td>\n",
              "      <td>0.0</td>\n",
              "      <td>7</td>\n",
              "    </tr>\n",
              "  </tbody>\n",
              "</table>\n",
              "</div>\n",
              "      <button class=\"colab-df-convert\" onclick=\"convertToInteractive('df-24b10746-acc7-443c-a332-e660bf816210')\"\n",
              "              title=\"Convert this dataframe to an interactive table.\"\n",
              "              style=\"display:none;\">\n",
              "        \n",
              "  <svg xmlns=\"http://www.w3.org/2000/svg\" height=\"24px\"viewBox=\"0 0 24 24\"\n",
              "       width=\"24px\">\n",
              "    <path d=\"M0 0h24v24H0V0z\" fill=\"none\"/>\n",
              "    <path d=\"M18.56 5.44l.94 2.06.94-2.06 2.06-.94-2.06-.94-.94-2.06-.94 2.06-2.06.94zm-11 1L8.5 8.5l.94-2.06 2.06-.94-2.06-.94L8.5 2.5l-.94 2.06-2.06.94zm10 10l.94 2.06.94-2.06 2.06-.94-2.06-.94-.94-2.06-.94 2.06-2.06.94z\"/><path d=\"M17.41 7.96l-1.37-1.37c-.4-.4-.92-.59-1.43-.59-.52 0-1.04.2-1.43.59L10.3 9.45l-7.72 7.72c-.78.78-.78 2.05 0 2.83L4 21.41c.39.39.9.59 1.41.59.51 0 1.02-.2 1.41-.59l7.78-7.78 2.81-2.81c.8-.78.8-2.07 0-2.86zM5.41 20L4 18.59l7.72-7.72 1.47 1.35L5.41 20z\"/>\n",
              "  </svg>\n",
              "      </button>\n",
              "      \n",
              "  <style>\n",
              "    .colab-df-container {\n",
              "      display:flex;\n",
              "      flex-wrap:wrap;\n",
              "      gap: 12px;\n",
              "    }\n",
              "\n",
              "    .colab-df-convert {\n",
              "      background-color: #E8F0FE;\n",
              "      border: none;\n",
              "      border-radius: 50%;\n",
              "      cursor: pointer;\n",
              "      display: none;\n",
              "      fill: #1967D2;\n",
              "      height: 32px;\n",
              "      padding: 0 0 0 0;\n",
              "      width: 32px;\n",
              "    }\n",
              "\n",
              "    .colab-df-convert:hover {\n",
              "      background-color: #E2EBFA;\n",
              "      box-shadow: 0px 1px 2px rgba(60, 64, 67, 0.3), 0px 1px 3px 1px rgba(60, 64, 67, 0.15);\n",
              "      fill: #174EA6;\n",
              "    }\n",
              "\n",
              "    [theme=dark] .colab-df-convert {\n",
              "      background-color: #3B4455;\n",
              "      fill: #D2E3FC;\n",
              "    }\n",
              "\n",
              "    [theme=dark] .colab-df-convert:hover {\n",
              "      background-color: #434B5C;\n",
              "      box-shadow: 0px 1px 3px 1px rgba(0, 0, 0, 0.15);\n",
              "      filter: drop-shadow(0px 1px 2px rgba(0, 0, 0, 0.3));\n",
              "      fill: #FFFFFF;\n",
              "    }\n",
              "  </style>\n",
              "\n",
              "      <script>\n",
              "        const buttonEl =\n",
              "          document.querySelector('#df-24b10746-acc7-443c-a332-e660bf816210 button.colab-df-convert');\n",
              "        buttonEl.style.display =\n",
              "          google.colab.kernel.accessAllowed ? 'block' : 'none';\n",
              "\n",
              "        async function convertToInteractive(key) {\n",
              "          const element = document.querySelector('#df-24b10746-acc7-443c-a332-e660bf816210');\n",
              "          const dataTable =\n",
              "            await google.colab.kernel.invokeFunction('convertToInteractive',\n",
              "                                                     [key], {});\n",
              "          if (!dataTable) return;\n",
              "\n",
              "          const docLinkHtml = 'Like what you see? Visit the ' +\n",
              "            '<a target=\"_blank\" href=https://colab.research.google.com/notebooks/data_table.ipynb>data table notebook</a>'\n",
              "            + ' to learn more about interactive tables.';\n",
              "          element.innerHTML = '';\n",
              "          dataTable['output_type'] = 'display_data';\n",
              "          await google.colab.output.renderOutput(dataTable, element);\n",
              "          const docLink = document.createElement('div');\n",
              "          docLink.innerHTML = docLinkHtml;\n",
              "          element.appendChild(docLink);\n",
              "        }\n",
              "      </script>\n",
              "    </div>\n",
              "  </div>\n",
              "  "
            ]
          },
          "metadata": {},
          "execution_count": 32
        }
      ]
    },
    {
      "cell_type": "code",
      "source": [
        "df2=pd.read_csv(\"/content/testKNN.txt\")"
      ],
      "metadata": {
        "id": "tI3DNxHksese"
      },
      "execution_count": null,
      "outputs": []
    },
    {
      "cell_type": "code",
      "source": [
        "df2.head()"
      ],
      "metadata": {
        "id": "iCYlgZTQwSfC",
        "colab": {
          "base_uri": "https://localhost:8080/",
          "height": 206
        },
        "outputId": "15bf7033-87c6-416c-bab6-925b3991bbc6"
      },
      "execution_count": null,
      "outputs": [
        {
          "output_type": "execute_result",
          "data": {
            "text/plain": [
              "   Idnumber       RI     Na    Mg    Al     Si     K     Ca   Ba    Fe  Target\n",
              "0        68  1.52152  13.05  3.65  0.87  72.32  0.19   9.85  0.0  0.17       1\n",
              "1        69  1.52152  13.12  3.58  0.90  72.20  0.23   9.82  0.0  0.16       1\n",
              "2        70  1.52300  13.31  3.58  0.82  71.99  0.12  10.17  0.0  0.03       1\n",
              "3       144  1.51709  13.00  3.47  1.79  72.72  0.66   8.18  0.0  0.00       2\n",
              "4       145  1.51660  12.99  3.18  1.23  72.97  0.58   8.81  0.0  0.24       2"
            ],
            "text/html": [
              "\n",
              "  <div id=\"df-d650f668-d05f-431b-b80e-4fa7e9901140\">\n",
              "    <div class=\"colab-df-container\">\n",
              "      <div>\n",
              "<style scoped>\n",
              "    .dataframe tbody tr th:only-of-type {\n",
              "        vertical-align: middle;\n",
              "    }\n",
              "\n",
              "    .dataframe tbody tr th {\n",
              "        vertical-align: top;\n",
              "    }\n",
              "\n",
              "    .dataframe thead th {\n",
              "        text-align: right;\n",
              "    }\n",
              "</style>\n",
              "<table border=\"1\" class=\"dataframe\">\n",
              "  <thead>\n",
              "    <tr style=\"text-align: right;\">\n",
              "      <th></th>\n",
              "      <th>Idnumber</th>\n",
              "      <th>RI</th>\n",
              "      <th>Na</th>\n",
              "      <th>Mg</th>\n",
              "      <th>Al</th>\n",
              "      <th>Si</th>\n",
              "      <th>K</th>\n",
              "      <th>Ca</th>\n",
              "      <th>Ba</th>\n",
              "      <th>Fe</th>\n",
              "      <th>Target</th>\n",
              "    </tr>\n",
              "  </thead>\n",
              "  <tbody>\n",
              "    <tr>\n",
              "      <th>0</th>\n",
              "      <td>68</td>\n",
              "      <td>1.52152</td>\n",
              "      <td>13.05</td>\n",
              "      <td>3.65</td>\n",
              "      <td>0.87</td>\n",
              "      <td>72.32</td>\n",
              "      <td>0.19</td>\n",
              "      <td>9.85</td>\n",
              "      <td>0.0</td>\n",
              "      <td>0.17</td>\n",
              "      <td>1</td>\n",
              "    </tr>\n",
              "    <tr>\n",
              "      <th>1</th>\n",
              "      <td>69</td>\n",
              "      <td>1.52152</td>\n",
              "      <td>13.12</td>\n",
              "      <td>3.58</td>\n",
              "      <td>0.90</td>\n",
              "      <td>72.20</td>\n",
              "      <td>0.23</td>\n",
              "      <td>9.82</td>\n",
              "      <td>0.0</td>\n",
              "      <td>0.16</td>\n",
              "      <td>1</td>\n",
              "    </tr>\n",
              "    <tr>\n",
              "      <th>2</th>\n",
              "      <td>70</td>\n",
              "      <td>1.52300</td>\n",
              "      <td>13.31</td>\n",
              "      <td>3.58</td>\n",
              "      <td>0.82</td>\n",
              "      <td>71.99</td>\n",
              "      <td>0.12</td>\n",
              "      <td>10.17</td>\n",
              "      <td>0.0</td>\n",
              "      <td>0.03</td>\n",
              "      <td>1</td>\n",
              "    </tr>\n",
              "    <tr>\n",
              "      <th>3</th>\n",
              "      <td>144</td>\n",
              "      <td>1.51709</td>\n",
              "      <td>13.00</td>\n",
              "      <td>3.47</td>\n",
              "      <td>1.79</td>\n",
              "      <td>72.72</td>\n",
              "      <td>0.66</td>\n",
              "      <td>8.18</td>\n",
              "      <td>0.0</td>\n",
              "      <td>0.00</td>\n",
              "      <td>2</td>\n",
              "    </tr>\n",
              "    <tr>\n",
              "      <th>4</th>\n",
              "      <td>145</td>\n",
              "      <td>1.51660</td>\n",
              "      <td>12.99</td>\n",
              "      <td>3.18</td>\n",
              "      <td>1.23</td>\n",
              "      <td>72.97</td>\n",
              "      <td>0.58</td>\n",
              "      <td>8.81</td>\n",
              "      <td>0.0</td>\n",
              "      <td>0.24</td>\n",
              "      <td>2</td>\n",
              "    </tr>\n",
              "  </tbody>\n",
              "</table>\n",
              "</div>\n",
              "      <button class=\"colab-df-convert\" onclick=\"convertToInteractive('df-d650f668-d05f-431b-b80e-4fa7e9901140')\"\n",
              "              title=\"Convert this dataframe to an interactive table.\"\n",
              "              style=\"display:none;\">\n",
              "        \n",
              "  <svg xmlns=\"http://www.w3.org/2000/svg\" height=\"24px\"viewBox=\"0 0 24 24\"\n",
              "       width=\"24px\">\n",
              "    <path d=\"M0 0h24v24H0V0z\" fill=\"none\"/>\n",
              "    <path d=\"M18.56 5.44l.94 2.06.94-2.06 2.06-.94-2.06-.94-.94-2.06-.94 2.06-2.06.94zm-11 1L8.5 8.5l.94-2.06 2.06-.94-2.06-.94L8.5 2.5l-.94 2.06-2.06.94zm10 10l.94 2.06.94-2.06 2.06-.94-2.06-.94-.94-2.06-.94 2.06-2.06.94z\"/><path d=\"M17.41 7.96l-1.37-1.37c-.4-.4-.92-.59-1.43-.59-.52 0-1.04.2-1.43.59L10.3 9.45l-7.72 7.72c-.78.78-.78 2.05 0 2.83L4 21.41c.39.39.9.59 1.41.59.51 0 1.02-.2 1.41-.59l7.78-7.78 2.81-2.81c.8-.78.8-2.07 0-2.86zM5.41 20L4 18.59l7.72-7.72 1.47 1.35L5.41 20z\"/>\n",
              "  </svg>\n",
              "      </button>\n",
              "      \n",
              "  <style>\n",
              "    .colab-df-container {\n",
              "      display:flex;\n",
              "      flex-wrap:wrap;\n",
              "      gap: 12px;\n",
              "    }\n",
              "\n",
              "    .colab-df-convert {\n",
              "      background-color: #E8F0FE;\n",
              "      border: none;\n",
              "      border-radius: 50%;\n",
              "      cursor: pointer;\n",
              "      display: none;\n",
              "      fill: #1967D2;\n",
              "      height: 32px;\n",
              "      padding: 0 0 0 0;\n",
              "      width: 32px;\n",
              "    }\n",
              "\n",
              "    .colab-df-convert:hover {\n",
              "      background-color: #E2EBFA;\n",
              "      box-shadow: 0px 1px 2px rgba(60, 64, 67, 0.3), 0px 1px 3px 1px rgba(60, 64, 67, 0.15);\n",
              "      fill: #174EA6;\n",
              "    }\n",
              "\n",
              "    [theme=dark] .colab-df-convert {\n",
              "      background-color: #3B4455;\n",
              "      fill: #D2E3FC;\n",
              "    }\n",
              "\n",
              "    [theme=dark] .colab-df-convert:hover {\n",
              "      background-color: #434B5C;\n",
              "      box-shadow: 0px 1px 3px 1px rgba(0, 0, 0, 0.15);\n",
              "      filter: drop-shadow(0px 1px 2px rgba(0, 0, 0, 0.3));\n",
              "      fill: #FFFFFF;\n",
              "    }\n",
              "  </style>\n",
              "\n",
              "      <script>\n",
              "        const buttonEl =\n",
              "          document.querySelector('#df-d650f668-d05f-431b-b80e-4fa7e9901140 button.colab-df-convert');\n",
              "        buttonEl.style.display =\n",
              "          google.colab.kernel.accessAllowed ? 'block' : 'none';\n",
              "\n",
              "        async function convertToInteractive(key) {\n",
              "          const element = document.querySelector('#df-d650f668-d05f-431b-b80e-4fa7e9901140');\n",
              "          const dataTable =\n",
              "            await google.colab.kernel.invokeFunction('convertToInteractive',\n",
              "                                                     [key], {});\n",
              "          if (!dataTable) return;\n",
              "\n",
              "          const docLinkHtml = 'Like what you see? Visit the ' +\n",
              "            '<a target=\"_blank\" href=https://colab.research.google.com/notebooks/data_table.ipynb>data table notebook</a>'\n",
              "            + ' to learn more about interactive tables.';\n",
              "          element.innerHTML = '';\n",
              "          dataTable['output_type'] = 'display_data';\n",
              "          await google.colab.output.renderOutput(dataTable, element);\n",
              "          const docLink = document.createElement('div');\n",
              "          docLink.innerHTML = docLinkHtml;\n",
              "          element.appendChild(docLink);\n",
              "        }\n",
              "      </script>\n",
              "    </div>\n",
              "  </div>\n",
              "  "
            ]
          },
          "metadata": {},
          "execution_count": 34
        }
      ]
    },
    {
      "cell_type": "markdown",
      "metadata": {
        "id": "_lrDXgjIgGJ3"
      },
      "source": [
        "**Splitting the dataset into the Training set and Test set**"
      ]
    },
    {
      "cell_type": "code",
      "metadata": {
        "id": "z2QWVTZUfyUB"
      },
      "source": [
        "X_train = df1[['RI','Na','Mg','Al','Si','K','Ca','Ba','Fe']].values # independent features\n",
        "y_train= df1['Target'].values "
      ],
      "execution_count": null,
      "outputs": []
    },
    {
      "cell_type": "code",
      "source": [
        "X_train"
      ],
      "metadata": {
        "id": "uU47I_X57yEE",
        "colab": {
          "base_uri": "https://localhost:8080/"
        },
        "outputId": "27360e1e-25f2-41c7-aede-a4956985004c"
      },
      "execution_count": null,
      "outputs": [
        {
          "output_type": "execute_result",
          "data": {
            "text/plain": [
              "array([[ 1.52101, 13.64   ,  4.49   , ...,  8.75   ,  0.     ,  0.     ],\n",
              "       [ 1.51761, 13.89   ,  3.6    , ...,  7.83   ,  0.     ,  0.     ],\n",
              "       [ 1.51618, 13.53   ,  3.55   , ...,  7.78   ,  0.     ,  0.     ],\n",
              "       ...,\n",
              "       [ 1.5164 , 14.37   ,  0.     , ...,  9.45   ,  0.54   ,  0.     ],\n",
              "       [ 1.51623, 14.14   ,  0.     , ...,  9.18   ,  1.06   ,  0.     ],\n",
              "       [ 1.51685, 14.92   ,  0.     , ...,  8.4    ,  1.59   ,  0.     ]])"
            ]
          },
          "metadata": {},
          "execution_count": 36
        }
      ]
    },
    {
      "cell_type": "code",
      "source": [
        "X_test = df2[['RI','Na','Mg','Al','Si','K','Ca','Ba','Fe']].values # independent features\n",
        "y_test= df2['Target'].values "
      ],
      "metadata": {
        "id": "JCW_lG0LTW4o"
      },
      "execution_count": null,
      "outputs": []
    },
    {
      "cell_type": "code",
      "source": [
        "df1['Target'].unique()"
      ],
      "metadata": {
        "id": "RS0plSmUf_Jd",
        "colab": {
          "base_uri": "https://localhost:8080/"
        },
        "outputId": "99b5d180-0a14-4875-db94-c14ba3234cc2"
      },
      "execution_count": null,
      "outputs": [
        {
          "output_type": "execute_result",
          "data": {
            "text/plain": [
              "array([1, 2, 3, 5, 6, 7])"
            ]
          },
          "metadata": {},
          "execution_count": 38
        }
      ]
    },
    {
      "cell_type": "code",
      "source": [
        "df2['Target'].unique()"
      ],
      "metadata": {
        "id": "9KqXjN6XgRIk",
        "colab": {
          "base_uri": "https://localhost:8080/"
        },
        "outputId": "065c2a6d-7b9b-4738-e316-0c92779b7d38"
      },
      "execution_count": null,
      "outputs": [
        {
          "output_type": "execute_result",
          "data": {
            "text/plain": [
              "array([1, 2, 3, 5, 6, 7])"
            ]
          },
          "metadata": {},
          "execution_count": 39
        }
      ]
    },
    {
      "cell_type": "code",
      "source": [
        "X_test"
      ],
      "metadata": {
        "id": "3WiGbK1pTl7d",
        "colab": {
          "base_uri": "https://localhost:8080/"
        },
        "outputId": "19a8cc41-8d5f-4a16-8dc2-b801b208bbe3"
      },
      "execution_count": null,
      "outputs": [
        {
          "output_type": "execute_result",
          "data": {
            "text/plain": [
              "array([[1.52152e+00, 1.30500e+01, 3.65000e+00, 8.70000e-01, 7.23200e+01,\n",
              "        1.90000e-01, 9.85000e+00, 0.00000e+00, 1.70000e-01],\n",
              "       [1.52152e+00, 1.31200e+01, 3.58000e+00, 9.00000e-01, 7.22000e+01,\n",
              "        2.30000e-01, 9.82000e+00, 0.00000e+00, 1.60000e-01],\n",
              "       [1.52300e+00, 1.33100e+01, 3.58000e+00, 8.20000e-01, 7.19900e+01,\n",
              "        1.20000e-01, 1.01700e+01, 0.00000e+00, 3.00000e-02],\n",
              "       [1.51709e+00, 1.30000e+01, 3.47000e+00, 1.79000e+00, 7.27200e+01,\n",
              "        6.60000e-01, 8.18000e+00, 0.00000e+00, 0.00000e+00],\n",
              "       [1.51660e+00, 1.29900e+01, 3.18000e+00, 1.23000e+00, 7.29700e+01,\n",
              "        5.80000e-01, 8.81000e+00, 0.00000e+00, 2.40000e-01],\n",
              "       [1.51839e+00, 1.28500e+01, 3.67000e+00, 1.24000e+00, 7.25700e+01,\n",
              "        6.20000e-01, 8.68000e+00, 0.00000e+00, 3.50000e-01],\n",
              "       [1.51832e+00, 1.33300e+01, 3.34000e+00, 1.54000e+00, 7.21400e+01,\n",
              "        5.60000e-01, 8.99000e+00, 0.00000e+00, 0.00000e+00],\n",
              "       [1.51934e+00, 1.36400e+01, 3.54000e+00, 7.50000e-01, 7.26500e+01,\n",
              "        1.60000e-01, 8.89000e+00, 1.50000e-01, 2.40000e-01],\n",
              "       [1.52211e+00, 1.41900e+01, 3.78000e+00, 9.10000e-01, 7.13600e+01,\n",
              "        2.30000e-01, 9.14000e+00, 0.00000e+00, 3.70000e-01],\n",
              "       [1.52043e+00, 1.33800e+01, 0.00000e+00, 1.40000e+00, 7.22500e+01,\n",
              "        3.30000e-01, 1.25000e+01, 0.00000e+00, 0.00000e+00],\n",
              "       [1.52058e+00, 1.28500e+01, 1.61000e+00, 2.17000e+00, 7.21800e+01,\n",
              "        7.60000e-01, 9.70000e+00, 2.40000e-01, 5.10000e-01],\n",
              "       [1.52119e+00, 1.29700e+01, 3.30000e-01, 1.51000e+00, 7.33900e+01,\n",
              "        1.30000e-01, 1.12700e+01, 0.00000e+00, 2.80000e-01],\n",
              "       [1.51916e+00, 1.41500e+01, 0.00000e+00, 2.09000e+00, 7.27400e+01,\n",
              "        0.00000e+00, 1.08800e+01, 0.00000e+00, 0.00000e+00],\n",
              "       [1.51969e+00, 1.45600e+01, 0.00000e+00, 5.60000e-01, 7.34800e+01,\n",
              "        0.00000e+00, 1.12200e+01, 0.00000e+00, 0.00000e+00],\n",
              "       [1.51115e+00, 1.73800e+01, 0.00000e+00, 3.40000e-01, 7.54100e+01,\n",
              "        0.00000e+00, 6.65000e+00, 0.00000e+00, 0.00000e+00],\n",
              "       [1.52065e+00, 1.43600e+01, 0.00000e+00, 2.02000e+00, 7.34200e+01,\n",
              "        0.00000e+00, 8.44000e+00, 1.64000e+00, 0.00000e+00],\n",
              "       [1.51651e+00, 1.43800e+01, 0.00000e+00, 1.94000e+00, 7.36100e+01,\n",
              "        0.00000e+00, 8.48000e+00, 1.57000e+00, 0.00000e+00],\n",
              "       [1.51711e+00, 1.42300e+01, 0.00000e+00, 2.08000e+00, 7.33600e+01,\n",
              "        0.00000e+00, 8.62000e+00, 1.67000e+00, 0.00000e+00]])"
            ]
          },
          "metadata": {},
          "execution_count": 40
        }
      ]
    },
    {
      "cell_type": "markdown",
      "metadata": {
        "id": "XmzkAVfggNrD"
      },
      "source": [
        "**Feature Scaling**"
      ]
    },
    {
      "cell_type": "code",
      "source": [
        " from sklearn.preprocessing import StandardScaler\n",
        " scaler = StandardScaler()\n",
        " X_train = scaler.fit_transform(X_train)\n",
        " X_test = scaler.transform(X_test)"
      ],
      "metadata": {
        "id": "vAfTWGSqPTc9"
      },
      "execution_count": null,
      "outputs": []
    },
    {
      "cell_type": "code",
      "metadata": {
        "id": "UZUJ4Xn4fyW6"
      },
      "source": [
        "def knn_comparison(data,k): \n",
        "  X_train = df1[['RI','Na','Mg','Al','Si','K','Ca','Ba','Fe']].values # independent features\n",
        "  y_train= df1['Target'].values \n",
        "  X_test = df2[['RI','Na','Mg','Al','Si','K','Ca','Ba','Fe']].values # independent features\n",
        "  y_test= df2['Target'].values \n",
        "  neigh=KNeighborsClassifier\n",
        "  clf=neigh(n_neighbors=k)\n",
        "  clf.fit(X_train, y_train)\n",
        "  print(\"Train Accuracy : \", clf.score(X_train,y_train))\n",
        "  print(\"Val Accuracy : \", np.mean(cross_val_score(clf,X_train, y_train, cv=10)))\n",
        "  pca = PCA(n_components = 2)\n",
        "  X_train2 = pca.fit_transform(X_train)\n",
        "  clf.fit(X_train2,y_train)\n",
        "  plot_decision_regions(X_train2,y_train,clf=clf,legend=7)\n",
        "  plt.xlabel(X_train.columns[0],size=14)\n",
        "  plt.ylabel(X_train.columns[1],size=14)\n",
        "  plt.title('K-nn classification',size=16)\n",
        "  plot.show()"
      ],
      "execution_count": null,
      "outputs": []
    },
    {
      "cell_type": "markdown",
      "source": [],
      "metadata": {
        "id": "ZB30m0Pyf2UU"
      }
    },
    {
      "cell_type": "code",
      "metadata": {
        "id": "aEOlRLkefye3",
        "colab": {
          "base_uri": "https://localhost:8080/",
          "height": 711
        },
        "outputId": "61cb4655-81c4-4617-8d41-c031803da438"
      },
      "source": [
        "for i in [1,2,3,4,5,20,30,40,80]: #hit n trial\n",
        "  print(i) \n",
        "  knn_comparison(df1,i)"
      ],
      "execution_count": null,
      "outputs": [
        {
          "output_type": "stream",
          "name": "stdout",
          "text": [
            "1\n",
            "Train Accuracy :  1.0\n",
            "Val Accuracy :  0.6278947368421053\n"
          ]
        },
        {
          "output_type": "stream",
          "name": "stderr",
          "text": [
            "/usr/local/lib/python3.8/dist-packages/sklearn/model_selection/_split.py:676: UserWarning: The least populated class in y has only 6 members, which is less than n_splits=10.\n",
            "  warnings.warn(\n",
            "/usr/local/lib/python3.8/dist-packages/mlxtend/plotting/decision_regions.py:244: MatplotlibDeprecationWarning: Passing unsupported keyword arguments to axis() will raise a TypeError in 3.3.\n",
            "  ax.axis(xmin=xx.min(), xmax=xx.max(), y_min=yy.min(), y_max=yy.max())\n"
          ]
        },
        {
          "output_type": "error",
          "ename": "AttributeError",
          "evalue": "ignored",
          "traceback": [
            "\u001b[0;31m---------------------------------------------------------------------------\u001b[0m",
            "\u001b[0;31mAttributeError\u001b[0m                            Traceback (most recent call last)",
            "\u001b[0;32m<ipython-input-87-6fd4aea4110e>\u001b[0m in \u001b[0;36m<module>\u001b[0;34m\u001b[0m\n\u001b[1;32m      1\u001b[0m \u001b[0;32mfor\u001b[0m \u001b[0mi\u001b[0m \u001b[0;32min\u001b[0m \u001b[0;34m[\u001b[0m\u001b[0;36m1\u001b[0m\u001b[0;34m,\u001b[0m\u001b[0;36m2\u001b[0m\u001b[0;34m,\u001b[0m\u001b[0;36m3\u001b[0m\u001b[0;34m,\u001b[0m\u001b[0;36m4\u001b[0m\u001b[0;34m,\u001b[0m\u001b[0;36m5\u001b[0m\u001b[0;34m,\u001b[0m\u001b[0;36m20\u001b[0m\u001b[0;34m,\u001b[0m\u001b[0;36m30\u001b[0m\u001b[0;34m,\u001b[0m\u001b[0;36m40\u001b[0m\u001b[0;34m,\u001b[0m\u001b[0;36m80\u001b[0m\u001b[0;34m]\u001b[0m\u001b[0;34m:\u001b[0m \u001b[0;31m#hit n trial\u001b[0m\u001b[0;34m\u001b[0m\u001b[0;34m\u001b[0m\u001b[0m\n\u001b[1;32m      2\u001b[0m   \u001b[0mprint\u001b[0m\u001b[0;34m(\u001b[0m\u001b[0mi\u001b[0m\u001b[0;34m)\u001b[0m\u001b[0;34m\u001b[0m\u001b[0;34m\u001b[0m\u001b[0m\n\u001b[0;32m----> 3\u001b[0;31m   \u001b[0mknn_comparison\u001b[0m\u001b[0;34m(\u001b[0m\u001b[0mdf1\u001b[0m\u001b[0;34m,\u001b[0m\u001b[0mi\u001b[0m\u001b[0;34m)\u001b[0m\u001b[0;34m\u001b[0m\u001b[0;34m\u001b[0m\u001b[0m\n\u001b[0m",
            "\u001b[0;32m<ipython-input-86-cc1f46cc4b60>\u001b[0m in \u001b[0;36mknn_comparison\u001b[0;34m(data, k)\u001b[0m\n\u001b[1;32m     13\u001b[0m   \u001b[0mclf\u001b[0m\u001b[0;34m.\u001b[0m\u001b[0mfit\u001b[0m\u001b[0;34m(\u001b[0m\u001b[0mX_train2\u001b[0m\u001b[0;34m,\u001b[0m\u001b[0my_train\u001b[0m\u001b[0;34m)\u001b[0m\u001b[0;34m\u001b[0m\u001b[0;34m\u001b[0m\u001b[0m\n\u001b[1;32m     14\u001b[0m   \u001b[0mplot_decision_regions\u001b[0m\u001b[0;34m(\u001b[0m\u001b[0mX_train2\u001b[0m\u001b[0;34m,\u001b[0m\u001b[0my_train\u001b[0m\u001b[0;34m,\u001b[0m\u001b[0mclf\u001b[0m\u001b[0;34m=\u001b[0m\u001b[0mclf\u001b[0m\u001b[0;34m,\u001b[0m\u001b[0mlegend\u001b[0m\u001b[0;34m=\u001b[0m\u001b[0;36m7\u001b[0m\u001b[0;34m)\u001b[0m\u001b[0;34m\u001b[0m\u001b[0;34m\u001b[0m\u001b[0m\n\u001b[0;32m---> 15\u001b[0;31m   \u001b[0mplt\u001b[0m\u001b[0;34m.\u001b[0m\u001b[0mxlabel\u001b[0m\u001b[0;34m(\u001b[0m\u001b[0mX_train\u001b[0m\u001b[0;34m.\u001b[0m\u001b[0mcolumns\u001b[0m\u001b[0;34m[\u001b[0m\u001b[0;36m0\u001b[0m\u001b[0;34m]\u001b[0m\u001b[0;34m,\u001b[0m\u001b[0msize\u001b[0m\u001b[0;34m=\u001b[0m\u001b[0;36m14\u001b[0m\u001b[0;34m)\u001b[0m\u001b[0;34m\u001b[0m\u001b[0;34m\u001b[0m\u001b[0m\n\u001b[0m\u001b[1;32m     16\u001b[0m   \u001b[0mplt\u001b[0m\u001b[0;34m.\u001b[0m\u001b[0mylabel\u001b[0m\u001b[0;34m(\u001b[0m\u001b[0mX_train\u001b[0m\u001b[0;34m.\u001b[0m\u001b[0mcolumns\u001b[0m\u001b[0;34m[\u001b[0m\u001b[0;36m1\u001b[0m\u001b[0;34m]\u001b[0m\u001b[0;34m,\u001b[0m\u001b[0msize\u001b[0m\u001b[0;34m=\u001b[0m\u001b[0;36m14\u001b[0m\u001b[0;34m)\u001b[0m\u001b[0;34m\u001b[0m\u001b[0;34m\u001b[0m\u001b[0m\n\u001b[1;32m     17\u001b[0m   \u001b[0mplt\u001b[0m\u001b[0;34m.\u001b[0m\u001b[0mtitle\u001b[0m\u001b[0;34m(\u001b[0m\u001b[0;34m'K-nn classification'\u001b[0m\u001b[0;34m,\u001b[0m\u001b[0msize\u001b[0m\u001b[0;34m=\u001b[0m\u001b[0;36m16\u001b[0m\u001b[0;34m)\u001b[0m\u001b[0;34m\u001b[0m\u001b[0;34m\u001b[0m\u001b[0m\n",
            "\u001b[0;31mAttributeError\u001b[0m: 'numpy.ndarray' object has no attribute 'columns'"
          ]
        },
        {
          "output_type": "display_data",
          "data": {
            "text/plain": [
              "<Figure size 432x288 with 1 Axes>"
            ],
            "image/png": "[encoded data removed]"
          },
          "metadata": {
            "needs_background": "light"
          }
        }
      ]
    },
    {
      "cell_type": "markdown",
      "metadata": {
        "id": "cYfKp7MQgwX7"
      },
      "source": [
        "**Making the Confusion Matrix**"
      ]
    },
    {
      "cell_type": "code",
      "metadata": {
        "id": "zFhgq3Yufyh5"
      },
      "source": [],
      "execution_count": null,
      "outputs": []
    },
    {
      "cell_type": "code",
      "metadata": {
        "id": "sp18d2Zhg4Me"
      },
      "source": [],
      "execution_count": null,
      "outputs": []
    }
  ]
}