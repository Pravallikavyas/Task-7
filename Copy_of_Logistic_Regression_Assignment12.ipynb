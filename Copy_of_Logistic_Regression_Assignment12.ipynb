{
  "nbformat": 4,
  "nbformat_minor": 0,
  "metadata": {
    "colab": {
      "provenance": [],
      "include_colab_link": true
    },
    "kernelspec": {
      "name": "python3",
      "display_name": "Python 3"
    },
    "language_info": {
      "name": "python"
    }
  },
  "cells": [
    {
      "cell_type": "markdown",
      "metadata": {
        "id": "view-in-github",
        "colab_type": "text"
      },
      "source": [
        "<a href=\"https://colab.research.google.com/github/Pravallikavyas/Task-7/blob/main/Copy_of_Logistic_Regression_Assignment12.ipynb\" target=\"_parent\"><img src=\"https://colab.research.google.com/assets/colab-badge.svg\" alt=\"Open In Colab\"/></a>"
      ]
    },
    {
      "cell_type": "code",
      "metadata": {
        "id": "xugUQsM_jkbL"
      },
      "source": [
        "# Social_Network_Ads.csv"
      ],
      "execution_count": 4,
      "outputs": []
    },
    {
      "cell_type": "markdown",
      "metadata": {
        "id": "t_YJ-uqLmRuD"
      },
      "source": [
        "This dataset contains information of users in a social network. Those informations are the user id the gender the age and the estimated salary. A car company has just launched their brand new luxury SUV. And we're trying to see which of these users of the social network are going to buy this brand new SUV And the last column here tells If yes or no the user bought this SUV we are going to build a model that is going to predict if a user is going to buy or not the SUV based on two variables which are going to be the age and the estimated salary. So our matrix of feature is only going to be these two columns. We want to find some correlations between the age and the estimated salary of a user and his decision to purchase yes or no the SUV.\n"
      ]
    },
    {
      "cell_type": "markdown",
      "metadata": {
        "id": "sgTgwccsk5Yu"
      },
      "source": [
        "**Step 1 | Data Pre-Processing**"
      ]
    },
    {
      "cell_type": "markdown",
      "metadata": {
        "id": "bKWN0MOblEKa"
      },
      "source": [
        "**Importing the Libraries**"
      ]
    },
    {
      "cell_type": "code",
      "metadata": {
        "id": "8cIjONoJj8u0"
      },
      "source": [
        "import pandas as pd\n",
        "import numpy as np"
      ],
      "execution_count": 5,
      "outputs": []
    },
    {
      "cell_type": "code",
      "metadata": {
        "id": "2QZwg6ypj8xs"
      },
      "source": [
        "from sklearn.model_selection import train_test_split\n",
        "from sklearn import metrics\n",
        "import seaborn as sns\n",
        "import matplotlib.pyplot as plt\n"
      ],
      "execution_count": 6,
      "outputs": []
    },
    {
      "cell_type": "markdown",
      "metadata": {
        "id": "bM9O8a0YlNWk"
      },
      "source": [
        "**Importing the dataset**"
      ]
    },
    {
      "cell_type": "code",
      "metadata": {
        "id": "vfPLWJHRlM-4"
      },
      "source": [
        "df=pd.read_csv('/content/Social_Network_Ads.csv')"
      ],
      "execution_count": 7,
      "outputs": []
    },
    {
      "cell_type": "code",
      "metadata": {
        "id": "8LWipIjDj7yn",
        "colab": {
          "base_uri": "https://localhost:8080/",
          "height": 424
        },
        "outputId": "4fbc8bc9-40a6-41b4-ded8-66b6812f3f3b"
      },
      "source": [
        "df"
      ],
      "execution_count": 8,
      "outputs": [
        {
          "output_type": "execute_result",
          "data": {
            "text/plain": [
              "      User ID  Gender  Age  EstimatedSalary  Purchased\n",
              "0    15624510    Male   19            19000          0\n",
              "1    15810944    Male   35            20000          0\n",
              "2    15668575  Female   26            43000          0\n",
              "3    15603246  Female   27            57000          0\n",
              "4    15804002    Male   19            76000          0\n",
              "..        ...     ...  ...              ...        ...\n",
              "395  15691863  Female   46            41000          1\n",
              "396  15706071    Male   51            23000          1\n",
              "397  15654296  Female   50            20000          1\n",
              "398  15755018    Male   36            33000          0\n",
              "399  15594041  Female   49            36000          1\n",
              "\n",
              "[400 rows x 5 columns]"
            ],
            "text/html": [
              "\n",
              "  <div id=\"df-5ffc3bb4-439b-4b34-9285-0c62acba2ae6\">\n",
              "    <div class=\"colab-df-container\">\n",
              "      <div>\n",
              "<style scoped>\n",
              "    .dataframe tbody tr th:only-of-type {\n",
              "        vertical-align: middle;\n",
              "    }\n",
              "\n",
              "    .dataframe tbody tr th {\n",
              "        vertical-align: top;\n",
              "    }\n",
              "\n",
              "    .dataframe thead th {\n",
              "        text-align: right;\n",
              "    }\n",
              "</style>\n",
              "<table border=\"1\" class=\"dataframe\">\n",
              "  <thead>\n",
              "    <tr style=\"text-align: right;\">\n",
              "      <th></th>\n",
              "      <th>User ID</th>\n",
              "      <th>Gender</th>\n",
              "      <th>Age</th>\n",
              "      <th>EstimatedSalary</th>\n",
              "      <th>Purchased</th>\n",
              "    </tr>\n",
              "  </thead>\n",
              "  <tbody>\n",
              "    <tr>\n",
              "      <th>0</th>\n",
              "      <td>15624510</td>\n",
              "      <td>Male</td>\n",
              "      <td>19</td>\n",
              "      <td>19000</td>\n",
              "      <td>0</td>\n",
              "    </tr>\n",
              "    <tr>\n",
              "      <th>1</th>\n",
              "      <td>15810944</td>\n",
              "      <td>Male</td>\n",
              "      <td>35</td>\n",
              "      <td>20000</td>\n",
              "      <td>0</td>\n",
              "    </tr>\n",
              "    <tr>\n",
              "      <th>2</th>\n",
              "      <td>15668575</td>\n",
              "      <td>Female</td>\n",
              "      <td>26</td>\n",
              "      <td>43000</td>\n",
              "      <td>0</td>\n",
              "    </tr>\n",
              "    <tr>\n",
              "      <th>3</th>\n",
              "      <td>15603246</td>\n",
              "      <td>Female</td>\n",
              "      <td>27</td>\n",
              "      <td>57000</td>\n",
              "      <td>0</td>\n",
              "    </tr>\n",
              "    <tr>\n",
              "      <th>4</th>\n",
              "      <td>15804002</td>\n",
              "      <td>Male</td>\n",
              "      <td>19</td>\n",
              "      <td>76000</td>\n",
              "      <td>0</td>\n",
              "    </tr>\n",
              "    <tr>\n",
              "      <th>...</th>\n",
              "      <td>...</td>\n",
              "      <td>...</td>\n",
              "      <td>...</td>\n",
              "      <td>...</td>\n",
              "      <td>...</td>\n",
              "    </tr>\n",
              "    <tr>\n",
              "      <th>395</th>\n",
              "      <td>15691863</td>\n",
              "      <td>Female</td>\n",
              "      <td>46</td>\n",
              "      <td>41000</td>\n",
              "      <td>1</td>\n",
              "    </tr>\n",
              "    <tr>\n",
              "      <th>396</th>\n",
              "      <td>15706071</td>\n",
              "      <td>Male</td>\n",
              "      <td>51</td>\n",
              "      <td>23000</td>\n",
              "      <td>1</td>\n",
              "    </tr>\n",
              "    <tr>\n",
              "      <th>397</th>\n",
              "      <td>15654296</td>\n",
              "      <td>Female</td>\n",
              "      <td>50</td>\n",
              "      <td>20000</td>\n",
              "      <td>1</td>\n",
              "    </tr>\n",
              "    <tr>\n",
              "      <th>398</th>\n",
              "      <td>15755018</td>\n",
              "      <td>Male</td>\n",
              "      <td>36</td>\n",
              "      <td>33000</td>\n",
              "      <td>0</td>\n",
              "    </tr>\n",
              "    <tr>\n",
              "      <th>399</th>\n",
              "      <td>15594041</td>\n",
              "      <td>Female</td>\n",
              "      <td>49</td>\n",
              "      <td>36000</td>\n",
              "      <td>1</td>\n",
              "    </tr>\n",
              "  </tbody>\n",
              "</table>\n",
              "<p>400 rows × 5 columns</p>\n",
              "</div>\n",
              "      <button class=\"colab-df-convert\" onclick=\"convertToInteractive('df-5ffc3bb4-439b-4b34-9285-0c62acba2ae6')\"\n",
              "              title=\"Convert this dataframe to an interactive table.\"\n",
              "              style=\"display:none;\">\n",
              "        \n",
              "  <svg xmlns=\"http://www.w3.org/2000/svg\" height=\"24px\"viewBox=\"0 0 24 24\"\n",
              "       width=\"24px\">\n",
              "    <path d=\"M0 0h24v24H0V0z\" fill=\"none\"/>\n",
              "    <path d=\"M18.56 5.44l.94 2.06.94-2.06 2.06-.94-2.06-.94-.94-2.06-.94 2.06-2.06.94zm-11 1L8.5 8.5l.94-2.06 2.06-.94-2.06-.94L8.5 2.5l-.94 2.06-2.06.94zm10 10l.94 2.06.94-2.06 2.06-.94-2.06-.94-.94-2.06-.94 2.06-2.06.94z\"/><path d=\"M17.41 7.96l-1.37-1.37c-.4-.4-.92-.59-1.43-.59-.52 0-1.04.2-1.43.59L10.3 9.45l-7.72 7.72c-.78.78-.78 2.05 0 2.83L4 21.41c.39.39.9.59 1.41.59.51 0 1.02-.2 1.41-.59l7.78-7.78 2.81-2.81c.8-.78.8-2.07 0-2.86zM5.41 20L4 18.59l7.72-7.72 1.47 1.35L5.41 20z\"/>\n",
              "  </svg>\n",
              "      </button>\n",
              "      \n",
              "  <style>\n",
              "    .colab-df-container {\n",
              "      display:flex;\n",
              "      flex-wrap:wrap;\n",
              "      gap: 12px;\n",
              "    }\n",
              "\n",
              "    .colab-df-convert {\n",
              "      background-color: #E8F0FE;\n",
              "      border: none;\n",
              "      border-radius: 50%;\n",
              "      cursor: pointer;\n",
              "      display: none;\n",
              "      fill: #1967D2;\n",
              "      height: 32px;\n",
              "      padding: 0 0 0 0;\n",
              "      width: 32px;\n",
              "    }\n",
              "\n",
              "    .colab-df-convert:hover {\n",
              "      background-color: #E2EBFA;\n",
              "      box-shadow: 0px 1px 2px rgba(60, 64, 67, 0.3), 0px 1px 3px 1px rgba(60, 64, 67, 0.15);\n",
              "      fill: #174EA6;\n",
              "    }\n",
              "\n",
              "    [theme=dark] .colab-df-convert {\n",
              "      background-color: #3B4455;\n",
              "      fill: #D2E3FC;\n",
              "    }\n",
              "\n",
              "    [theme=dark] .colab-df-convert:hover {\n",
              "      background-color: #434B5C;\n",
              "      box-shadow: 0px 1px 3px 1px rgba(0, 0, 0, 0.15);\n",
              "      filter: drop-shadow(0px 1px 2px rgba(0, 0, 0, 0.3));\n",
              "      fill: #FFFFFF;\n",
              "    }\n",
              "  </style>\n",
              "\n",
              "      <script>\n",
              "        const buttonEl =\n",
              "          document.querySelector('#df-5ffc3bb4-439b-4b34-9285-0c62acba2ae6 button.colab-df-convert');\n",
              "        buttonEl.style.display =\n",
              "          google.colab.kernel.accessAllowed ? 'block' : 'none';\n",
              "\n",
              "        async function convertToInteractive(key) {\n",
              "          const element = document.querySelector('#df-5ffc3bb4-439b-4b34-9285-0c62acba2ae6');\n",
              "          const dataTable =\n",
              "            await google.colab.kernel.invokeFunction('convertToInteractive',\n",
              "                                                     [key], {});\n",
              "          if (!dataTable) return;\n",
              "\n",
              "          const docLinkHtml = 'Like what you see? Visit the ' +\n",
              "            '<a target=\"_blank\" href=https://colab.research.google.com/notebooks/data_table.ipynb>data table notebook</a>'\n",
              "            + ' to learn more about interactive tables.';\n",
              "          element.innerHTML = '';\n",
              "          dataTable['output_type'] = 'display_data';\n",
              "          await google.colab.output.renderOutput(dataTable, element);\n",
              "          const docLink = document.createElement('div');\n",
              "          docLink.innerHTML = docLinkHtml;\n",
              "          element.appendChild(docLink);\n",
              "        }\n",
              "      </script>\n",
              "    </div>\n",
              "  </div>\n",
              "  "
            ]
          },
          "metadata": {},
          "execution_count": 8
        }
      ]
    },
    {
      "cell_type": "code",
      "source": [
        "df.shape"
      ],
      "metadata": {
        "colab": {
          "base_uri": "https://localhost:8080/"
        },
        "id": "DqLDoxGQiXFq",
        "outputId": "2dc9ece0-0511-4ced-c3ff-923ccd3b7768"
      },
      "execution_count": 9,
      "outputs": [
        {
          "output_type": "execute_result",
          "data": {
            "text/plain": [
              "(400, 5)"
            ]
          },
          "metadata": {},
          "execution_count": 9
        }
      ]
    },
    {
      "cell_type": "code",
      "source": [
        "df.dtypes"
      ],
      "metadata": {
        "colab": {
          "base_uri": "https://localhost:8080/"
        },
        "id": "OWhdDaxUiat7",
        "outputId": "439a93fe-3d95-4089-aeda-dc340cfabfea"
      },
      "execution_count": 10,
      "outputs": [
        {
          "output_type": "execute_result",
          "data": {
            "text/plain": [
              "User ID             int64\n",
              "Gender             object\n",
              "Age                 int64\n",
              "EstimatedSalary     int64\n",
              "Purchased           int64\n",
              "dtype: object"
            ]
          },
          "metadata": {},
          "execution_count": 10
        }
      ]
    },
    {
      "cell_type": "code",
      "source": [
        "df.isnull().sum()"
      ],
      "metadata": {
        "colab": {
          "base_uri": "https://localhost:8080/"
        },
        "id": "VtBdMMvPig86",
        "outputId": "367e9633-73bd-47b2-9bda-61164f2fbcbb"
      },
      "execution_count": 11,
      "outputs": [
        {
          "output_type": "execute_result",
          "data": {
            "text/plain": [
              "User ID            0\n",
              "Gender             0\n",
              "Age                0\n",
              "EstimatedSalary    0\n",
              "Purchased          0\n",
              "dtype: int64"
            ]
          },
          "metadata": {},
          "execution_count": 11
        }
      ]
    },
    {
      "cell_type": "code",
      "source": [
        "df=df.drop_duplicates()"
      ],
      "metadata": {
        "id": "bg_3fnMuipj6"
      },
      "execution_count": 12,
      "outputs": []
    },
    {
      "cell_type": "code",
      "source": [
        "df.describe()"
      ],
      "metadata": {
        "colab": {
          "base_uri": "https://localhost:8080/",
          "height": 300
        },
        "id": "hir8_4hBizNt",
        "outputId": "29d0057c-342e-4982-b8c1-e3e48ca450e2"
      },
      "execution_count": 13,
      "outputs": [
        {
          "output_type": "execute_result",
          "data": {
            "text/plain": [
              "            User ID         Age  EstimatedSalary   Purchased\n",
              "count  4.000000e+02  400.000000       400.000000  400.000000\n",
              "mean   1.569154e+07   37.655000     69742.500000    0.357500\n",
              "std    7.165832e+04   10.482877     34096.960282    0.479864\n",
              "min    1.556669e+07   18.000000     15000.000000    0.000000\n",
              "25%    1.562676e+07   29.750000     43000.000000    0.000000\n",
              "50%    1.569434e+07   37.000000     70000.000000    0.000000\n",
              "75%    1.575036e+07   46.000000     88000.000000    1.000000\n",
              "max    1.581524e+07   60.000000    150000.000000    1.000000"
            ],
            "text/html": [
              "\n",
              "  <div id=\"df-e3bff1f3-5980-4087-b6b3-947a74c83dc7\">\n",
              "    <div class=\"colab-df-container\">\n",
              "      <div>\n",
              "<style scoped>\n",
              "    .dataframe tbody tr th:only-of-type {\n",
              "        vertical-align: middle;\n",
              "    }\n",
              "\n",
              "    .dataframe tbody tr th {\n",
              "        vertical-align: top;\n",
              "    }\n",
              "\n",
              "    .dataframe thead th {\n",
              "        text-align: right;\n",
              "    }\n",
              "</style>\n",
              "<table border=\"1\" class=\"dataframe\">\n",
              "  <thead>\n",
              "    <tr style=\"text-align: right;\">\n",
              "      <th></th>\n",
              "      <th>User ID</th>\n",
              "      <th>Age</th>\n",
              "      <th>EstimatedSalary</th>\n",
              "      <th>Purchased</th>\n",
              "    </tr>\n",
              "  </thead>\n",
              "  <tbody>\n",
              "    <tr>\n",
              "      <th>count</th>\n",
              "      <td>4.000000e+02</td>\n",
              "      <td>400.000000</td>\n",
              "      <td>400.000000</td>\n",
              "      <td>400.000000</td>\n",
              "    </tr>\n",
              "    <tr>\n",
              "      <th>mean</th>\n",
              "      <td>1.569154e+07</td>\n",
              "      <td>37.655000</td>\n",
              "      <td>69742.500000</td>\n",
              "      <td>0.357500</td>\n",
              "    </tr>\n",
              "    <tr>\n",
              "      <th>std</th>\n",
              "      <td>7.165832e+04</td>\n",
              "      <td>10.482877</td>\n",
              "      <td>34096.960282</td>\n",
              "      <td>0.479864</td>\n",
              "    </tr>\n",
              "    <tr>\n",
              "      <th>min</th>\n",
              "      <td>1.556669e+07</td>\n",
              "      <td>18.000000</td>\n",
              "      <td>15000.000000</td>\n",
              "      <td>0.000000</td>\n",
              "    </tr>\n",
              "    <tr>\n",
              "      <th>25%</th>\n",
              "      <td>1.562676e+07</td>\n",
              "      <td>29.750000</td>\n",
              "      <td>43000.000000</td>\n",
              "      <td>0.000000</td>\n",
              "    </tr>\n",
              "    <tr>\n",
              "      <th>50%</th>\n",
              "      <td>1.569434e+07</td>\n",
              "      <td>37.000000</td>\n",
              "      <td>70000.000000</td>\n",
              "      <td>0.000000</td>\n",
              "    </tr>\n",
              "    <tr>\n",
              "      <th>75%</th>\n",
              "      <td>1.575036e+07</td>\n",
              "      <td>46.000000</td>\n",
              "      <td>88000.000000</td>\n",
              "      <td>1.000000</td>\n",
              "    </tr>\n",
              "    <tr>\n",
              "      <th>max</th>\n",
              "      <td>1.581524e+07</td>\n",
              "      <td>60.000000</td>\n",
              "      <td>150000.000000</td>\n",
              "      <td>1.000000</td>\n",
              "    </tr>\n",
              "  </tbody>\n",
              "</table>\n",
              "</div>\n",
              "      <button class=\"colab-df-convert\" onclick=\"convertToInteractive('df-e3bff1f3-5980-4087-b6b3-947a74c83dc7')\"\n",
              "              title=\"Convert this dataframe to an interactive table.\"\n",
              "              style=\"display:none;\">\n",
              "        \n",
              "  <svg xmlns=\"http://www.w3.org/2000/svg\" height=\"24px\"viewBox=\"0 0 24 24\"\n",
              "       width=\"24px\">\n",
              "    <path d=\"M0 0h24v24H0V0z\" fill=\"none\"/>\n",
              "    <path d=\"M18.56 5.44l.94 2.06.94-2.06 2.06-.94-2.06-.94-.94-2.06-.94 2.06-2.06.94zm-11 1L8.5 8.5l.94-2.06 2.06-.94-2.06-.94L8.5 2.5l-.94 2.06-2.06.94zm10 10l.94 2.06.94-2.06 2.06-.94-2.06-.94-.94-2.06-.94 2.06-2.06.94z\"/><path d=\"M17.41 7.96l-1.37-1.37c-.4-.4-.92-.59-1.43-.59-.52 0-1.04.2-1.43.59L10.3 9.45l-7.72 7.72c-.78.78-.78 2.05 0 2.83L4 21.41c.39.39.9.59 1.41.59.51 0 1.02-.2 1.41-.59l7.78-7.78 2.81-2.81c.8-.78.8-2.07 0-2.86zM5.41 20L4 18.59l7.72-7.72 1.47 1.35L5.41 20z\"/>\n",
              "  </svg>\n",
              "      </button>\n",
              "      \n",
              "  <style>\n",
              "    .colab-df-container {\n",
              "      display:flex;\n",
              "      flex-wrap:wrap;\n",
              "      gap: 12px;\n",
              "    }\n",
              "\n",
              "    .colab-df-convert {\n",
              "      background-color: #E8F0FE;\n",
              "      border: none;\n",
              "      border-radius: 50%;\n",
              "      cursor: pointer;\n",
              "      display: none;\n",
              "      fill: #1967D2;\n",
              "      height: 32px;\n",
              "      padding: 0 0 0 0;\n",
              "      width: 32px;\n",
              "    }\n",
              "\n",
              "    .colab-df-convert:hover {\n",
              "      background-color: #E2EBFA;\n",
              "      box-shadow: 0px 1px 2px rgba(60, 64, 67, 0.3), 0px 1px 3px 1px rgba(60, 64, 67, 0.15);\n",
              "      fill: #174EA6;\n",
              "    }\n",
              "\n",
              "    [theme=dark] .colab-df-convert {\n",
              "      background-color: #3B4455;\n",
              "      fill: #D2E3FC;\n",
              "    }\n",
              "\n",
              "    [theme=dark] .colab-df-convert:hover {\n",
              "      background-color: #434B5C;\n",
              "      box-shadow: 0px 1px 3px 1px rgba(0, 0, 0, 0.15);\n",
              "      filter: drop-shadow(0px 1px 2px rgba(0, 0, 0, 0.3));\n",
              "      fill: #FFFFFF;\n",
              "    }\n",
              "  </style>\n",
              "\n",
              "      <script>\n",
              "        const buttonEl =\n",
              "          document.querySelector('#df-e3bff1f3-5980-4087-b6b3-947a74c83dc7 button.colab-df-convert');\n",
              "        buttonEl.style.display =\n",
              "          google.colab.kernel.accessAllowed ? 'block' : 'none';\n",
              "\n",
              "        async function convertToInteractive(key) {\n",
              "          const element = document.querySelector('#df-e3bff1f3-5980-4087-b6b3-947a74c83dc7');\n",
              "          const dataTable =\n",
              "            await google.colab.kernel.invokeFunction('convertToInteractive',\n",
              "                                                     [key], {});\n",
              "          if (!dataTable) return;\n",
              "\n",
              "          const docLinkHtml = 'Like what you see? Visit the ' +\n",
              "            '<a target=\"_blank\" href=https://colab.research.google.com/notebooks/data_table.ipynb>data table notebook</a>'\n",
              "            + ' to learn more about interactive tables.';\n",
              "          element.innerHTML = '';\n",
              "          dataTable['output_type'] = 'display_data';\n",
              "          await google.colab.output.renderOutput(dataTable, element);\n",
              "          const docLink = document.createElement('div');\n",
              "          docLink.innerHTML = docLinkHtml;\n",
              "          element.appendChild(docLink);\n",
              "        }\n",
              "      </script>\n",
              "    </div>\n",
              "  </div>\n",
              "  "
            ]
          },
          "metadata": {},
          "execution_count": 13
        }
      ]
    },
    {
      "cell_type": "code",
      "source": [
        "df.info()"
      ],
      "metadata": {
        "colab": {
          "base_uri": "https://localhost:8080/"
        },
        "id": "LNDXllBTjG9F",
        "outputId": "8f5243b1-1f7c-4bea-c12d-1771f2f81568"
      },
      "execution_count": 14,
      "outputs": [
        {
          "output_type": "stream",
          "name": "stdout",
          "text": [
            "<class 'pandas.core.frame.DataFrame'>\n",
            "Int64Index: 400 entries, 0 to 399\n",
            "Data columns (total 5 columns):\n",
            " #   Column           Non-Null Count  Dtype \n",
            "---  ------           --------------  ----- \n",
            " 0   User ID          400 non-null    int64 \n",
            " 1   Gender           400 non-null    object\n",
            " 2   Age              400 non-null    int64 \n",
            " 3   EstimatedSalary  400 non-null    int64 \n",
            " 4   Purchased        400 non-null    int64 \n",
            "dtypes: int64(4), object(1)\n",
            "memory usage: 18.8+ KB\n"
          ]
        }
      ]
    },
    {
      "cell_type": "code",
      "source": [
        "df['Gender']=df['Gender'].map({'Male':0,'Female':1})"
      ],
      "metadata": {
        "id": "5B9XmQgwkAA8"
      },
      "execution_count": 15,
      "outputs": []
    },
    {
      "cell_type": "code",
      "source": [
        "df"
      ],
      "metadata": {
        "colab": {
          "base_uri": "https://localhost:8080/",
          "height": 424
        },
        "id": "sxO6rBT0kRNV",
        "outputId": "2e27608e-a11d-4fdc-836d-9e7fed43981e"
      },
      "execution_count": 16,
      "outputs": [
        {
          "output_type": "execute_result",
          "data": {
            "text/plain": [
              "      User ID  Gender  Age  EstimatedSalary  Purchased\n",
              "0    15624510       0   19            19000          0\n",
              "1    15810944       0   35            20000          0\n",
              "2    15668575       1   26            43000          0\n",
              "3    15603246       1   27            57000          0\n",
              "4    15804002       0   19            76000          0\n",
              "..        ...     ...  ...              ...        ...\n",
              "395  15691863       1   46            41000          1\n",
              "396  15706071       0   51            23000          1\n",
              "397  15654296       1   50            20000          1\n",
              "398  15755018       0   36            33000          0\n",
              "399  15594041       1   49            36000          1\n",
              "\n",
              "[400 rows x 5 columns]"
            ],
            "text/html": [
              "\n",
              "  <div id=\"df-f66ddf84-071f-4cb0-a8c0-f46d615fa7a7\">\n",
              "    <div class=\"colab-df-container\">\n",
              "      <div>\n",
              "<style scoped>\n",
              "    .dataframe tbody tr th:only-of-type {\n",
              "        vertical-align: middle;\n",
              "    }\n",
              "\n",
              "    .dataframe tbody tr th {\n",
              "        vertical-align: top;\n",
              "    }\n",
              "\n",
              "    .dataframe thead th {\n",
              "        text-align: right;\n",
              "    }\n",
              "</style>\n",
              "<table border=\"1\" class=\"dataframe\">\n",
              "  <thead>\n",
              "    <tr style=\"text-align: right;\">\n",
              "      <th></th>\n",
              "      <th>User ID</th>\n",
              "      <th>Gender</th>\n",
              "      <th>Age</th>\n",
              "      <th>EstimatedSalary</th>\n",
              "      <th>Purchased</th>\n",
              "    </tr>\n",
              "  </thead>\n",
              "  <tbody>\n",
              "    <tr>\n",
              "      <th>0</th>\n",
              "      <td>15624510</td>\n",
              "      <td>0</td>\n",
              "      <td>19</td>\n",
              "      <td>19000</td>\n",
              "      <td>0</td>\n",
              "    </tr>\n",
              "    <tr>\n",
              "      <th>1</th>\n",
              "      <td>15810944</td>\n",
              "      <td>0</td>\n",
              "      <td>35</td>\n",
              "      <td>20000</td>\n",
              "      <td>0</td>\n",
              "    </tr>\n",
              "    <tr>\n",
              "      <th>2</th>\n",
              "      <td>15668575</td>\n",
              "      <td>1</td>\n",
              "      <td>26</td>\n",
              "      <td>43000</td>\n",
              "      <td>0</td>\n",
              "    </tr>\n",
              "    <tr>\n",
              "      <th>3</th>\n",
              "      <td>15603246</td>\n",
              "      <td>1</td>\n",
              "      <td>27</td>\n",
              "      <td>57000</td>\n",
              "      <td>0</td>\n",
              "    </tr>\n",
              "    <tr>\n",
              "      <th>4</th>\n",
              "      <td>15804002</td>\n",
              "      <td>0</td>\n",
              "      <td>19</td>\n",
              "      <td>76000</td>\n",
              "      <td>0</td>\n",
              "    </tr>\n",
              "    <tr>\n",
              "      <th>...</th>\n",
              "      <td>...</td>\n",
              "      <td>...</td>\n",
              "      <td>...</td>\n",
              "      <td>...</td>\n",
              "      <td>...</td>\n",
              "    </tr>\n",
              "    <tr>\n",
              "      <th>395</th>\n",
              "      <td>15691863</td>\n",
              "      <td>1</td>\n",
              "      <td>46</td>\n",
              "      <td>41000</td>\n",
              "      <td>1</td>\n",
              "    </tr>\n",
              "    <tr>\n",
              "      <th>396</th>\n",
              "      <td>15706071</td>\n",
              "      <td>0</td>\n",
              "      <td>51</td>\n",
              "      <td>23000</td>\n",
              "      <td>1</td>\n",
              "    </tr>\n",
              "    <tr>\n",
              "      <th>397</th>\n",
              "      <td>15654296</td>\n",
              "      <td>1</td>\n",
              "      <td>50</td>\n",
              "      <td>20000</td>\n",
              "      <td>1</td>\n",
              "    </tr>\n",
              "    <tr>\n",
              "      <th>398</th>\n",
              "      <td>15755018</td>\n",
              "      <td>0</td>\n",
              "      <td>36</td>\n",
              "      <td>33000</td>\n",
              "      <td>0</td>\n",
              "    </tr>\n",
              "    <tr>\n",
              "      <th>399</th>\n",
              "      <td>15594041</td>\n",
              "      <td>1</td>\n",
              "      <td>49</td>\n",
              "      <td>36000</td>\n",
              "      <td>1</td>\n",
              "    </tr>\n",
              "  </tbody>\n",
              "</table>\n",
              "<p>400 rows × 5 columns</p>\n",
              "</div>\n",
              "      <button class=\"colab-df-convert\" onclick=\"convertToInteractive('df-f66ddf84-071f-4cb0-a8c0-f46d615fa7a7')\"\n",
              "              title=\"Convert this dataframe to an interactive table.\"\n",
              "              style=\"display:none;\">\n",
              "        \n",
              "  <svg xmlns=\"http://www.w3.org/2000/svg\" height=\"24px\"viewBox=\"0 0 24 24\"\n",
              "       width=\"24px\">\n",
              "    <path d=\"M0 0h24v24H0V0z\" fill=\"none\"/>\n",
              "    <path d=\"M18.56 5.44l.94 2.06.94-2.06 2.06-.94-2.06-.94-.94-2.06-.94 2.06-2.06.94zm-11 1L8.5 8.5l.94-2.06 2.06-.94-2.06-.94L8.5 2.5l-.94 2.06-2.06.94zm10 10l.94 2.06.94-2.06 2.06-.94-2.06-.94-.94-2.06-.94 2.06-2.06.94z\"/><path d=\"M17.41 7.96l-1.37-1.37c-.4-.4-.92-.59-1.43-.59-.52 0-1.04.2-1.43.59L10.3 9.45l-7.72 7.72c-.78.78-.78 2.05 0 2.83L4 21.41c.39.39.9.59 1.41.59.51 0 1.02-.2 1.41-.59l7.78-7.78 2.81-2.81c.8-.78.8-2.07 0-2.86zM5.41 20L4 18.59l7.72-7.72 1.47 1.35L5.41 20z\"/>\n",
              "  </svg>\n",
              "      </button>\n",
              "      \n",
              "  <style>\n",
              "    .colab-df-container {\n",
              "      display:flex;\n",
              "      flex-wrap:wrap;\n",
              "      gap: 12px;\n",
              "    }\n",
              "\n",
              "    .colab-df-convert {\n",
              "      background-color: #E8F0FE;\n",
              "      border: none;\n",
              "      border-radius: 50%;\n",
              "      cursor: pointer;\n",
              "      display: none;\n",
              "      fill: #1967D2;\n",
              "      height: 32px;\n",
              "      padding: 0 0 0 0;\n",
              "      width: 32px;\n",
              "    }\n",
              "\n",
              "    .colab-df-convert:hover {\n",
              "      background-color: #E2EBFA;\n",
              "      box-shadow: 0px 1px 2px rgba(60, 64, 67, 0.3), 0px 1px 3px 1px rgba(60, 64, 67, 0.15);\n",
              "      fill: #174EA6;\n",
              "    }\n",
              "\n",
              "    [theme=dark] .colab-df-convert {\n",
              "      background-color: #3B4455;\n",
              "      fill: #D2E3FC;\n",
              "    }\n",
              "\n",
              "    [theme=dark] .colab-df-convert:hover {\n",
              "      background-color: #434B5C;\n",
              "      box-shadow: 0px 1px 3px 1px rgba(0, 0, 0, 0.15);\n",
              "      filter: drop-shadow(0px 1px 2px rgba(0, 0, 0, 0.3));\n",
              "      fill: #FFFFFF;\n",
              "    }\n",
              "  </style>\n",
              "\n",
              "      <script>\n",
              "        const buttonEl =\n",
              "          document.querySelector('#df-f66ddf84-071f-4cb0-a8c0-f46d615fa7a7 button.colab-df-convert');\n",
              "        buttonEl.style.display =\n",
              "          google.colab.kernel.accessAllowed ? 'block' : 'none';\n",
              "\n",
              "        async function convertToInteractive(key) {\n",
              "          const element = document.querySelector('#df-f66ddf84-071f-4cb0-a8c0-f46d615fa7a7');\n",
              "          const dataTable =\n",
              "            await google.colab.kernel.invokeFunction('convertToInteractive',\n",
              "                                                     [key], {});\n",
              "          if (!dataTable) return;\n",
              "\n",
              "          const docLinkHtml = 'Like what you see? Visit the ' +\n",
              "            '<a target=\"_blank\" href=https://colab.research.google.com/notebooks/data_table.ipynb>data table notebook</a>'\n",
              "            + ' to learn more about interactive tables.';\n",
              "          element.innerHTML = '';\n",
              "          dataTable['output_type'] = 'display_data';\n",
              "          await google.colab.output.renderOutput(dataTable, element);\n",
              "          const docLink = document.createElement('div');\n",
              "          docLink.innerHTML = docLinkHtml;\n",
              "          element.appendChild(docLink);\n",
              "        }\n",
              "      </script>\n",
              "    </div>\n",
              "  </div>\n",
              "  "
            ]
          },
          "metadata": {},
          "execution_count": 16
        }
      ]
    },
    {
      "cell_type": "code",
      "source": [
        "plt.figure(figsize=(20,10))\n",
        "sns.scatterplot(x=\"Age\",y=\"EstimatedSalary\",hue=\"Purchased\",data=df,s=200)\n",
        "plt.title(\"Age vs Estimated Salary\", y=1.015, fontsize=30)\n",
        "plt.xlabel(\"Age\", labelpad=15)\n",
        "plt.ylabel(\"Estimated Salary\", labelpad=15)\n",
        "ax=plt.gca()"
      ],
      "metadata": {
        "colab": {
          "base_uri": "https://localhost:8080/",
          "height": 654
        },
        "id": "JwQkXKutj9__",
        "outputId": "cf1c601a-f2ea-4e25-dc8e-70bcb24c7f60"
      },
      "execution_count": 28,
      "outputs": [
        {
          "output_type": "display_data",
          "data": {
            "text/plain": [
              "<Figure size 1440x720 with 1 Axes>"
            ],
            "image/png": "[encoded data removed]"
          },
          "metadata": {
            "needs_background": "light"
          }
        }
      ]
    },
    {
      "cell_type": "code",
      "source": [
        "fig = plt.figure()\n",
        "ax = fig.add_subplot(111, projection='3d')\n",
        "for s in df.Purchased.unique():\n",
        "    ax.scatter(df.Age[df.Purchased==s],df.EstimatedSalary[df.Purchased==s],label=s)\n",
        "ax.legend()"
      ],
      "metadata": {
        "colab": {
          "base_uri": "https://localhost:8080/",
          "height": 265
        },
        "id": "Vp-l7ZlKmMqE",
        "outputId": "4a01f94c-d2fa-4cf5-bb23-65d032f10bab"
      },
      "execution_count": 30,
      "outputs": [
        {
          "output_type": "execute_result",
          "data": {
            "text/plain": [
              "<matplotlib.legend.Legend at 0x7faa58b11370>"
            ]
          },
          "metadata": {},
          "execution_count": 30
        },
        {
          "output_type": "display_data",
          "data": {
            "text/plain": [
              "<Figure size 432x288 with 1 Axes>"
            ],
            "image/png": "[encoded data removed]"
          },
          "metadata": {
            "needs_background": "light"
          }
        }
      ]
    },
    {
      "cell_type": "code",
      "source": [
        "X=df[['Gender','Age','EstimatedSalary']].values\n",
        "y=df['Purchased'].values"
      ],
      "metadata": {
        "id": "Lr67GXVEs1cf"
      },
      "execution_count": 52,
      "outputs": []
    },
    {
      "cell_type": "code",
      "source": [
        "import numpy as np\n",
        "def sigmoid(x):\n",
        "  return(1/(1 + np.exp(-x)))\n",
        "x_values_for_sigmoid = np.linspace(-10, 10)\n",
        "plt.figure(figsize=(8, 7))\n",
        "plt.plot(x_values_for_sigmoid, sigmoid(x_values_for_sigmoid), c='teal')\n",
        "plt.title('Sigmoid Function')\n",
        "plt.grid(True)\n",
        "plt.text(2, 0.3, r'$\\sigma(x)=\\frac{1}{1+e^{-x}}$', fontsize=26)\n",
        "plt.show()"
      ],
      "metadata": {
        "colab": {
          "base_uri": "https://localhost:8080/",
          "height": 444
        },
        "id": "uVMhk7Eqt94P",
        "outputId": "3572bfd7-b6a8-4f82-a07b-1115c013f214"
      },
      "execution_count": 32,
      "outputs": [
        {
          "output_type": "display_data",
          "data": {
            "text/plain": [
              "<Figure size 576x504 with 1 Axes>"
            ],
            "image/png": "[encoded data removed]"
          },
          "metadata": {
            "needs_background": "light"
          }
        }
      ]
    },
    {
      "cell_type": "markdown",
      "metadata": {
        "id": "eHCKYPHylT5K"
      },
      "source": [
        "**Splitting the dataset into the Training set and Test set**"
      ]
    },
    {
      "cell_type": "code",
      "metadata": {
        "id": "o9msgi0sj72h"
      },
      "source": [
        "X_train,X_test,y_train,y_test = train_test_split(X,y,test_size=0.30)"
      ],
      "execution_count": 37,
      "outputs": []
    },
    {
      "cell_type": "code",
      "source": [
        "X_train"
      ],
      "metadata": {
        "colab": {
          "base_uri": "https://localhost:8080/"
        },
        "id": "6gxE9ihwusew",
        "outputId": "efbd763e-cc3e-4d1d-832f-32135b7c67a4"
      },
      "execution_count": 38,
      "outputs": [
        {
          "output_type": "execute_result",
          "data": {
            "text/plain": [
              "array([[    36,  54000],\n",
              "       [    29,  83000],\n",
              "       [    54,  26000],\n",
              "       [    25,  79000],\n",
              "       [    53,  34000],\n",
              "       [    36, 144000],\n",
              "       [    35,  71000],\n",
              "       [    19,  25000],\n",
              "       [    52,  90000],\n",
              "       [    29,  83000],\n",
              "       [    30,  79000],\n",
              "       [    26,  86000],\n",
              "       [    35,  57000],\n",
              "       [    42,  70000],\n",
              "       [    52, 150000],\n",
              "       [    32, 100000],\n",
              "       [    39,  96000],\n",
              "       [    28,  55000],\n",
              "       [    47,  34000],\n",
              "       [    30,  49000],\n",
              "       [    34, 112000],\n",
              "       [    31,  68000],\n",
              "       [    27,  58000],\n",
              "       [    35,  60000],\n",
              "       [    20,  74000],\n",
              "       [    40,  75000],\n",
              "       [    41,  72000],\n",
              "       [    34,  43000],\n",
              "       [    59,  29000],\n",
              "       [    20,  86000],\n",
              "       [    37,  53000],\n",
              "       [    45, 131000],\n",
              "       [    47,  30000],\n",
              "       [    38,  59000],\n",
              "       [    39,  71000],\n",
              "       [    59,  76000],\n",
              "       [    46,  41000],\n",
              "       [    56, 133000],\n",
              "       [    35,  65000],\n",
              "       [    39,  42000],\n",
              "       [    58, 101000],\n",
              "       [    36,  75000],\n",
              "       [    23,  63000],\n",
              "       [    35,  38000],\n",
              "       [    30,  89000],\n",
              "       [    20,  82000],\n",
              "       [    29, 148000],\n",
              "       [    37, 144000],\n",
              "       [    39, 122000],\n",
              "       [    55, 130000],\n",
              "       [    41,  52000],\n",
              "       [    41,  59000],\n",
              "       [    45,  22000],\n",
              "       [    57,  74000],\n",
              "       [    35,  44000],\n",
              "       [    46,  23000],\n",
              "       [    25,  87000],\n",
              "       [    48, 131000],\n",
              "       [    57,  26000],\n",
              "       [    25,  90000],\n",
              "       [    49,  36000],\n",
              "       [    32,  18000],\n",
              "       [    39, 134000],\n",
              "       [    37,  93000],\n",
              "       [    46,  22000],\n",
              "       [    47,  51000],\n",
              "       [    26,  15000],\n",
              "       [    57,  33000],\n",
              "       [    18,  86000],\n",
              "       [    49, 141000],\n",
              "       [    18,  82000],\n",
              "       [    39,  75000],\n",
              "       [    40,  47000],\n",
              "       [    48,  30000],\n",
              "       [    19,  19000],\n",
              "       [    45,  22000],\n",
              "       [    27,  20000],\n",
              "       [    42,  79000],\n",
              "       [    53,  72000],\n",
              "       [    35,  61000],\n",
              "       [    24,  58000],\n",
              "       [    35,  77000],\n",
              "       [    39,  71000],\n",
              "       [    47,  50000],\n",
              "       [    28,  37000],\n",
              "       [    32,  18000],\n",
              "       [    19,  26000],\n",
              "       [    57, 122000],\n",
              "       [    36,  33000],\n",
              "       [    45,  32000],\n",
              "       [    33,  41000],\n",
              "       [    37,  79000],\n",
              "       [    33,  69000],\n",
              "       [    29,  43000],\n",
              "       [    33, 149000],\n",
              "       [    35,  75000],\n",
              "       [    41,  71000],\n",
              "       [    35, 108000],\n",
              "       [    33, 113000],\n",
              "       [    42,  65000],\n",
              "       [    32,  86000],\n",
              "       [    35,  72000],\n",
              "       [    55, 125000],\n",
              "       [    30,  80000],\n",
              "       [    40,  78000],\n",
              "       [    29,  80000],\n",
              "       [    46,  32000],\n",
              "       [    30,  15000],\n",
              "       [    28,  32000],\n",
              "       [    41,  80000],\n",
              "       [    47, 105000],\n",
              "       [    34,  43000],\n",
              "       [    23,  28000],\n",
              "       [    35,  22000],\n",
              "       [    42,  54000],\n",
              "       [    26,  43000],\n",
              "       [    19,  85000],\n",
              "       [    28,  59000],\n",
              "       [    31, 118000],\n",
              "       [    39,  59000],\n",
              "       [    27,  89000],\n",
              "       [    40,  59000],\n",
              "       [    37,  70000],\n",
              "       [    35,  25000],\n",
              "       [    39,  73000],\n",
              "       [    48,  96000],\n",
              "       [    18,  52000],\n",
              "       [    22,  63000],\n",
              "       [    27,  57000],\n",
              "       [    49,  39000],\n",
              "       [    34,  72000],\n",
              "       [    52,  21000],\n",
              "       [    38,  80000],\n",
              "       [    59,  42000],\n",
              "       [    47,  49000],\n",
              "       [    18,  44000],\n",
              "       [    27,  88000],\n",
              "       [    60,  83000],\n",
              "       [    47,  23000],\n",
              "       [    41,  63000],\n",
              "       [    19,  76000],\n",
              "       [    39,  77000],\n",
              "       [    32, 117000],\n",
              "       [    51, 134000],\n",
              "       [    54, 104000],\n",
              "       [    56, 104000],\n",
              "       [    38,  50000],\n",
              "       [    30,  17000],\n",
              "       [    26,  80000],\n",
              "       [    41,  79000],\n",
              "       [    22,  55000],\n",
              "       [    40,  61000],\n",
              "       [    33,  43000],\n",
              "       [    21,  16000],\n",
              "       [    37,  55000],\n",
              "       [    41,  52000],\n",
              "       [    41,  60000],\n",
              "       [    42,  75000],\n",
              "       [    28,  44000],\n",
              "       [    43, 129000],\n",
              "       [    32, 117000],\n",
              "       [    50,  44000],\n",
              "       [    27,  90000],\n",
              "       [    25,  22000],\n",
              "       [    37,  52000],\n",
              "       [    49,  28000],\n",
              "       [    38, 112000],\n",
              "       [    59,  83000],\n",
              "       [    25,  80000],\n",
              "       [    36,  99000],\n",
              "       [    41,  87000],\n",
              "       [    47,  20000],\n",
              "       [    28,  87000],\n",
              "       [    35,  20000],\n",
              "       [    35,  50000],\n",
              "       [    42, 149000],\n",
              "       [    27, 137000],\n",
              "       [    57,  60000],\n",
              "       [    40,  75000],\n",
              "       [    36, 126000],\n",
              "       [    59, 130000],\n",
              "       [    42,  80000],\n",
              "       [    40,  71000],\n",
              "       [    37,  75000],\n",
              "       [    37,  78000],\n",
              "       [    35,  27000],\n",
              "       [    52,  38000],\n",
              "       [    38,  71000],\n",
              "       [    26,  35000],\n",
              "       [    29,  75000],\n",
              "       [    47,  47000],\n",
              "       [    35,  97000],\n",
              "       [    21,  68000],\n",
              "       [    32, 150000],\n",
              "       [    45,  79000],\n",
              "       [    46,  74000],\n",
              "       [    41,  72000],\n",
              "       [    46, 117000],\n",
              "       [    20,  82000],\n",
              "       [    48,  35000],\n",
              "       [    46,  82000],\n",
              "       [    26,  72000],\n",
              "       [    24,  89000],\n",
              "       [    54,  70000],\n",
              "       [    60,  42000],\n",
              "       [    37,  74000],\n",
              "       [    59,  88000],\n",
              "       [    42, 108000],\n",
              "       [    37,  71000],\n",
              "       [    25,  33000],\n",
              "       [    60,  34000],\n",
              "       [    47, 107000],\n",
              "       [    40, 107000],\n",
              "       [    46,  59000],\n",
              "       [    28,  59000],\n",
              "       [    40,  60000],\n",
              "       [    23,  48000],\n",
              "       [    35,  91000],\n",
              "       [    56,  60000],\n",
              "       [    35,  58000],\n",
              "       [    33,  60000],\n",
              "       [    31,  71000],\n",
              "       [    58,  95000],\n",
              "       [    26,  30000],\n",
              "       [    35,  88000],\n",
              "       [    38,  61000],\n",
              "       [    50,  20000],\n",
              "       [    42,  64000],\n",
              "       [    36,  60000],\n",
              "       [    42,  53000],\n",
              "       [    21,  72000],\n",
              "       [    30,  62000],\n",
              "       [    36,  63000],\n",
              "       [    31,  66000],\n",
              "       [    34, 115000],\n",
              "       [    39,  42000],\n",
              "       [    45,  26000],\n",
              "       [    46,  28000],\n",
              "       [    35,  53000],\n",
              "       [    36,  52000],\n",
              "       [    44,  39000],\n",
              "       [    33,  51000],\n",
              "       [    30, 135000],\n",
              "       [    35,  23000],\n",
              "       [    36, 125000],\n",
              "       [    38,  55000],\n",
              "       [    24,  27000],\n",
              "       [    26,  32000],\n",
              "       [    35,  72000],\n",
              "       [    42,  80000],\n",
              "       [    45,  45000],\n",
              "       [    46,  79000],\n",
              "       [    20,  23000],\n",
              "       [    48,  33000],\n",
              "       [    58,  47000],\n",
              "       [    49,  65000],\n",
              "       [    26,  80000],\n",
              "       [    60, 102000],\n",
              "       [    54, 108000],\n",
              "       [    26,  84000],\n",
              "       [    23,  20000],\n",
              "       [    41,  72000],\n",
              "       [    44, 139000],\n",
              "       [    40,  72000],\n",
              "       [    28,  89000],\n",
              "       [    49,  89000],\n",
              "       [    24,  84000],\n",
              "       [    48,  90000],\n",
              "       [    47,  43000],\n",
              "       [    32, 120000],\n",
              "       [    29,  47000],\n",
              "       [    24,  55000],\n",
              "       [    18,  68000],\n",
              "       [    49,  74000],\n",
              "       [    26,  16000],\n",
              "       [    27,  31000],\n",
              "       [    22,  18000],\n",
              "       [    31,  34000],\n",
              "       [    35,  47000],\n",
              "       [    42,  65000]])"
            ]
          },
          "metadata": {},
          "execution_count": 38
        }
      ]
    },
    {
      "cell_type": "code",
      "source": [
        "X_train.shape"
      ],
      "metadata": {
        "colab": {
          "base_uri": "https://localhost:8080/"
        },
        "id": "OCkF654huy8b",
        "outputId": "2da765e7-2d8d-4329-8755-ae18c151a1a8"
      },
      "execution_count": 39,
      "outputs": [
        {
          "output_type": "execute_result",
          "data": {
            "text/plain": [
              "(280, 2)"
            ]
          },
          "metadata": {},
          "execution_count": 39
        }
      ]
    },
    {
      "cell_type": "code",
      "source": [
        "y_test.shape"
      ],
      "metadata": {
        "colab": {
          "base_uri": "https://localhost:8080/"
        },
        "id": "_9xyIkulu5mw",
        "outputId": "486b5c9b-0a29-40ff-8c35-6170564d6caf"
      },
      "execution_count": 41,
      "outputs": [
        {
          "output_type": "execute_result",
          "data": {
            "text/plain": [
              "(120,)"
            ]
          },
          "metadata": {},
          "execution_count": 41
        }
      ]
    },
    {
      "cell_type": "markdown",
      "metadata": {
        "id": "AsfmGeH6lZ0O"
      },
      "source": [
        "**Feature Scaling**"
      ]
    },
    {
      "cell_type": "code",
      "metadata": {
        "id": "Xfifr6tlj77A"
      },
      "source": [
        "from sklearn.preprocessing import StandardScaler\n",
        "scaler=StandardScaler()\n",
        "scaler.fit(X_train)\n",
        "X_train=scaler.transform(X_train)\n",
        "X_test=scaler.transform(X_test)"
      ],
      "execution_count": 42,
      "outputs": []
    },
    {
      "cell_type": "markdown",
      "metadata": {
        "id": "UkiSpylklf7z"
      },
      "source": [
        "**Step 2 | Logistic Regression Model**"
      ]
    },
    {
      "cell_type": "markdown",
      "metadata": {
        "id": "rhZgd1t_mfYg"
      },
      "source": [
        "The library for this job which is going to be the linear model library and it is called linear because the logistic regression is a linear classifier which means that here since we're in two dimensions, our two categories of users are going to be separated by a straight line. Then import the logistic regression class. Next we will create a new object from this class which is going to be our classifier that we are going to fit on our training set."
      ]
    },
    {
      "cell_type": "markdown",
      "metadata": {
        "id": "oCUEcLBflmPn"
      },
      "source": [
        "**Fitting Logistic Regression to the Training set**"
      ]
    },
    {
      "cell_type": "code",
      "metadata": {
        "id": "l8YSpSphj8FN",
        "colab": {
          "base_uri": "https://localhost:8080/"
        },
        "outputId": "7be93541-7589-492d-a13e-56e353d9d5a0"
      },
      "source": [
        "from sklearn.linear_model import LogisticRegression\n",
        "logistic_regression=LogisticRegression()\n",
        "logistic_regression.fit(X_train,y_train)"
      ],
      "execution_count": 44,
      "outputs": [
        {
          "output_type": "execute_result",
          "data": {
            "text/plain": [
              "LogisticRegression()"
            ]
          },
          "metadata": {},
          "execution_count": 44
        }
      ]
    },
    {
      "cell_type": "markdown",
      "metadata": {
        "id": "0DpkLwdRlvXX"
      },
      "source": [
        "**Step 3 | Predection**"
      ]
    },
    {
      "cell_type": "code",
      "metadata": {
        "id": "5X1PxviQlp0C"
      },
      "source": [
        "y_pred=logistic_regression.predict(X_test)"
      ],
      "execution_count": 46,
      "outputs": []
    },
    {
      "cell_type": "code",
      "source": [
        "y_pred"
      ],
      "metadata": {
        "colab": {
          "base_uri": "https://localhost:8080/"
        },
        "id": "MhZ26Sx7yyJ6",
        "outputId": "2732fa04-6abd-4b5e-d427-9726dd4c2ee8"
      },
      "execution_count": 47,
      "outputs": [
        {
          "output_type": "execute_result",
          "data": {
            "text/plain": [
              "array([1, 1, 1, 0, 0, 1, 0, 1, 1, 0, 0, 1, 0, 0, 0, 0, 0, 0, 0, 0, 1, 1,\n",
              "       0, 1, 0, 1, 0, 1, 0, 1, 1, 0, 0, 0, 0, 0, 1, 0, 0, 0, 0, 0, 1, 0,\n",
              "       1, 0, 0, 1, 0, 1, 0, 0, 0, 0, 0, 0, 0, 0, 1, 0, 0, 0, 1, 1, 1, 1,\n",
              "       0, 0, 0, 1, 0, 0, 1, 1, 0, 1, 0, 1, 1, 1, 0, 1, 0, 1, 0, 0, 0, 0,\n",
              "       1, 1, 0, 0, 0, 0, 0, 0, 0, 0, 0, 0, 0, 1, 0, 0, 1, 0, 0, 1, 0, 1,\n",
              "       1, 0, 0, 1, 0, 0, 0, 0, 0, 0])"
            ]
          },
          "metadata": {},
          "execution_count": 47
        }
      ]
    },
    {
      "cell_type": "code",
      "source": [
        "logistic_regression.predict_proba([[25,50000]])"
      ],
      "metadata": {
        "colab": {
          "base_uri": "https://localhost:8080/"
        },
        "id": "_f1gIjbmzWtg",
        "outputId": "51dca632-a1e2-43d2-f3b8-ca08655c2dc5"
      },
      "execution_count": 48,
      "outputs": [
        {
          "output_type": "execute_result",
          "data": {
            "text/plain": [
              "array([[0., 1.]])"
            ]
          },
          "metadata": {},
          "execution_count": 48
        }
      ]
    },
    {
      "cell_type": "code",
      "source": [
        "logistic_regression.predict_proba(X_test)"
      ],
      "metadata": {
        "colab": {
          "base_uri": "https://localhost:8080/"
        },
        "id": "szyMh0Qozsjh",
        "outputId": "2dffe736-7c4b-4a12-a246-31916f6bba0b"
      },
      "execution_count": 49,
      "outputs": [
        {
          "output_type": "execute_result",
          "data": {
            "text/plain": [
              "array([[0.14581494, 0.85418506],\n",
              "       [0.01575346, 0.98424654],\n",
              "       [0.1947147 , 0.8052853 ],\n",
              "       [0.74373688, 0.25626312],\n",
              "       [0.96347414, 0.03652586],\n",
              "       [0.01497854, 0.98502146],\n",
              "       [0.94412522, 0.05587478],\n",
              "       [0.37787454, 0.62212546],\n",
              "       [0.21869477, 0.78130523],\n",
              "       [0.99449315, 0.00550685],\n",
              "       [0.5136176 , 0.4863824 ],\n",
              "       [0.01093359, 0.98906641],\n",
              "       [0.99322815, 0.00677185],\n",
              "       [0.96394946, 0.03605054],\n",
              "       [0.80906617, 0.19093383],\n",
              "       [0.70386977, 0.29613023],\n",
              "       [0.95779026, 0.04220974],\n",
              "       [0.97788213, 0.02211787],\n",
              "       [0.89013891, 0.10986109],\n",
              "       [0.95875172, 0.04124828],\n",
              "       [0.22647243, 0.77352757],\n",
              "       [0.39848024, 0.60151976],\n",
              "       [0.91599083, 0.08400917],\n",
              "       [0.4029994 , 0.5970006 ],\n",
              "       [0.98552556, 0.01447444],\n",
              "       [0.17503514, 0.82496486],\n",
              "       [0.79325117, 0.20674883],\n",
              "       [0.06369381, 0.93630619],\n",
              "       [0.7285088 , 0.2714912 ],\n",
              "       [0.06375654, 0.93624346],\n",
              "       [0.21408546, 0.78591454],\n",
              "       [0.7604958 , 0.2395042 ],\n",
              "       [0.99706693, 0.00293307],\n",
              "       [0.72372706, 0.27627294],\n",
              "       [0.83168829, 0.16831171],\n",
              "       [0.8095506 , 0.1904494 ],\n",
              "       [0.03548209, 0.96451791],\n",
              "       [0.78823388, 0.21176612],\n",
              "       [0.78134755, 0.21865245],\n",
              "       [0.93141549, 0.06858451],\n",
              "       [0.5130961 , 0.4869039 ],\n",
              "       [0.99853287, 0.00146713],\n",
              "       [0.03765459, 0.96234541],\n",
              "       [0.81887951, 0.18112049],\n",
              "       [0.09243264, 0.90756736],\n",
              "       [0.87244979, 0.12755021],\n",
              "       [0.63826068, 0.36173932],\n",
              "       [0.00794735, 0.99205265],\n",
              "       [0.98407105, 0.01592895],\n",
              "       [0.16030634, 0.83969366],\n",
              "       [0.98118661, 0.01881339],\n",
              "       [0.99409594, 0.00590406],\n",
              "       [0.92931592, 0.07068408],\n",
              "       [0.83617655, 0.16382345],\n",
              "       [0.89044549, 0.10955451],\n",
              "       [0.98545081, 0.01454919],\n",
              "       [0.99611805, 0.00388195],\n",
              "       [0.96718005, 0.03281995],\n",
              "       [0.39822824, 0.60177176],\n",
              "       [0.52510042, 0.47489958],\n",
              "       [0.90411088, 0.09588912],\n",
              "       [0.88555888, 0.11444112],\n",
              "       [0.1786886 , 0.8213114 ],\n",
              "       [0.0359502 , 0.9640498 ],\n",
              "       [0.27841761, 0.72158239],\n",
              "       [0.00376737, 0.99623263],\n",
              "       [0.7258122 , 0.2741878 ],\n",
              "       [0.55727932, 0.44272068],\n",
              "       [0.87680534, 0.12319466],\n",
              "       [0.10927277, 0.89072723],\n",
              "       [0.72100116, 0.27899884],\n",
              "       [0.98083607, 0.01916393],\n",
              "       [0.46064528, 0.53935472],\n",
              "       [0.10906976, 0.89093024],\n",
              "       [0.57269634, 0.42730366],\n",
              "       [0.0401961 , 0.9598039 ],\n",
              "       [0.98307474, 0.01692526],\n",
              "       [0.46038406, 0.53961594],\n",
              "       [0.05638599, 0.94361401],\n",
              "       [0.00316243, 0.99683757],\n",
              "       [0.70386977, 0.29613023],\n",
              "       [0.03230074, 0.96769926],\n",
              "       [0.86085685, 0.13914315],\n",
              "       [0.21994706, 0.78005294],\n",
              "       [0.76277248, 0.23722752],\n",
              "       [0.99553688, 0.00446312],\n",
              "       [0.7549292 , 0.2450708 ],\n",
              "       [0.9876388 , 0.0123612 ],\n",
              "       [0.13122885, 0.86877115],\n",
              "       [0.29119419, 0.70880581],\n",
              "       [0.99667963, 0.00332037],\n",
              "       [0.94357123, 0.05642877],\n",
              "       [0.6743195 , 0.3256805 ],\n",
              "       [0.7285088 , 0.2714912 ],\n",
              "       [0.97489742, 0.02510258],\n",
              "       [0.994837  , 0.005163  ],\n",
              "       [0.90958516, 0.09041484],\n",
              "       [0.93154872, 0.06845128],\n",
              "       [0.83944378, 0.16055622],\n",
              "       [0.80987224, 0.19012776],\n",
              "       [0.98568876, 0.01431124],\n",
              "       [0.27257526, 0.72742474],\n",
              "       [0.75839409, 0.24160591],\n",
              "       [0.61824277, 0.38175723],\n",
              "       [0.45027184, 0.54972816],\n",
              "       [0.7285088 , 0.2714912 ],\n",
              "       [0.99558308, 0.00441692],\n",
              "       [0.13879719, 0.86120281],\n",
              "       [0.99285995, 0.00714005],\n",
              "       [0.07392591, 0.92607409],\n",
              "       [0.10507122, 0.89492878],\n",
              "       [0.91892044, 0.08107956],\n",
              "       [0.66109842, 0.33890158],\n",
              "       [0.03366773, 0.96633227],\n",
              "       [0.83358236, 0.16641764],\n",
              "       [0.90501327, 0.09498673],\n",
              "       [0.94107129, 0.05892871],\n",
              "       [0.97655581, 0.02344419],\n",
              "       [0.53083457, 0.46916543],\n",
              "       [0.97619414, 0.02380586]])"
            ]
          },
          "metadata": {},
          "execution_count": 49
        }
      ]
    },
    {
      "cell_type": "code",
      "source": [
        "logistic_regression.coef_"
      ],
      "metadata": {
        "colab": {
          "base_uri": "https://localhost:8080/"
        },
        "id": "D3eO8ZvBz3WR",
        "outputId": "41bf1a59-1b28-48df-b7e5-90aa6959f17b"
      },
      "execution_count": 53,
      "outputs": [
        {
          "output_type": "execute_result",
          "data": {
            "text/plain": [
              "array([[2.18953024, 1.04623547]])"
            ]
          },
          "metadata": {},
          "execution_count": 53
        }
      ]
    },
    {
      "cell_type": "code",
      "source": [
        "logistic_regression.intercept_"
      ],
      "metadata": {
        "colab": {
          "base_uri": "https://localhost:8080/"
        },
        "id": "49dxJJ7b0Br2",
        "outputId": "fd2de547-1e6a-42b3-80fa-0845a8d8a888"
      },
      "execution_count": 54,
      "outputs": [
        {
          "output_type": "execute_result",
          "data": {
            "text/plain": [
              "array([-1.13531863])"
            ]
          },
          "metadata": {},
          "execution_count": 54
        }
      ]
    },
    {
      "cell_type": "markdown",
      "metadata": {
        "id": "vdX1IU-Fl7Ak"
      },
      "source": [
        "**Step 4 | Evaluating The Predection**"
      ]
    },
    {
      "cell_type": "markdown",
      "metadata": {
        "id": "zPdZLTTQmqa9"
      },
      "source": [
        "We predicted the test results and now we will evaluate if our logistic regression model learned and understood correctly. So this confusion matrix is going to contain the correct predictions that our model made on the set as well as the incorrect predictions."
      ]
    },
    {
      "cell_type": "markdown",
      "metadata": {
        "id": "bxjKgSYvmBDn"
      },
      "source": [
        "**Making the Confusion Matrix**"
      ]
    },
    {
      "cell_type": "code",
      "metadata": {
        "id": "2_afjfcjlp88",
        "colab": {
          "base_uri": "https://localhost:8080/"
        },
        "outputId": "97d5507d-e247-45f1-9e11-04a1f68f1f28"
      },
      "source": [
        "from sklearn import metrics\n",
        "metrics.confusion_matrix(y_test,y_pred)"
      ],
      "execution_count": 55,
      "outputs": [
        {
          "output_type": "execute_result",
          "data": {
            "text/plain": [
              "array([[70,  4],\n",
              "       [ 9, 37]])"
            ]
          },
          "metadata": {},
          "execution_count": 55
        }
      ]
    },
    {
      "cell_type": "markdown",
      "metadata": {
        "id": "DARs2T8GmG3v"
      },
      "source": [
        "**Visualization**"
      ]
    },
    {
      "cell_type": "code",
      "metadata": {
        "id": "v_qMnhVilqBW"
      },
      "source": [
        "from sklearn.metrics import accuracy_score, plot_roc_curve, roc_curve, roc_auc_score, confusion_matrix, f1_score"
      ],
      "execution_count": 62,
      "outputs": []
    },
    {
      "cell_type": "code",
      "source": [
        "accuracy_score(y_test,y_pred)"
      ],
      "metadata": {
        "colab": {
          "base_uri": "https://localhost:8080/"
        },
        "id": "TK4IxLRYBtvg",
        "outputId": "24f67a8f-9be9-4770-8969-22a282c9518b"
      },
      "execution_count": 63,
      "outputs": [
        {
          "output_type": "execute_result",
          "data": {
            "text/plain": [
              "0.8916666666666667"
            ]
          },
          "metadata": {},
          "execution_count": 63
        }
      ]
    },
    {
      "cell_type": "code",
      "metadata": {
        "id": "QBiu7oxRlqGj",
        "colab": {
          "base_uri": "https://localhost:8080/"
        },
        "outputId": "c1573ed8-2729-40dc-f7ee-67e79dfd1fb9"
      },
      "source": [
        "f1_score(y_test,y_pred)"
      ],
      "execution_count": 64,
      "outputs": [
        {
          "output_type": "execute_result",
          "data": {
            "text/plain": [
              "0.8505747126436782"
            ]
          },
          "metadata": {},
          "execution_count": 64
        }
      ]
    },
    {
      "cell_type": "code",
      "metadata": {
        "id": "qLGVB79kj8KK",
        "colab": {
          "base_uri": "https://localhost:8080/",
          "height": 351
        },
        "outputId": "b77bad72-3ef9-4cfc-8f59-ed36cdb69836"
      },
      "source": [
        "plot_roc_curve(logistic_regression, X_test, y_test)"
      ],
      "execution_count": 65,
      "outputs": [
        {
          "output_type": "stream",
          "name": "stderr",
          "text": [
            "/usr/local/lib/python3.8/dist-packages/sklearn/utils/deprecation.py:87: FutureWarning: Function plot_roc_curve is deprecated; Function :func:`plot_roc_curve` is deprecated in 1.0 and will be removed in 1.2. Use one of the class methods: :meth:`sklearn.metric.RocCurveDisplay.from_predictions` or :meth:`sklearn.metric.RocCurveDisplay.from_estimator`.\n",
            "  warnings.warn(msg, category=FutureWarning)\n"
          ]
        },
        {
          "output_type": "execute_result",
          "data": {
            "text/plain": [
              "<sklearn.metrics._plot.roc_curve.RocCurveDisplay at 0x7faa58aca5b0>"
            ]
          },
          "metadata": {},
          "execution_count": 65
        },
        {
          "output_type": "display_data",
          "data": {
            "text/plain": [
              "<Figure size 432x288 with 1 Axes>"
            ],
            "image/png": "[encoded data removed]"
          },
          "metadata": {
            "needs_background": "light"
          }
        }
      ]
    }
  ]
}